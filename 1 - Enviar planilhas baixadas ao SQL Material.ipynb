{
 "cells": [
  {
   "cell_type": "code",
   "execution_count": 19,
   "id": "a2e28da6",
   "metadata": {
    "collapsed": true
   },
   "outputs": [
    {
     "ename": "ValueError",
     "evalue": "No tables found",
     "output_type": "error",
     "traceback": [
      "\u001b[1;31m---------------------------------------------------------------------------\u001b[0m",
      "\u001b[1;31mValueError\u001b[0m                                Traceback (most recent call last)",
      "\u001b[1;32mC:\\Users\\GLEISS~1.SAN\\AppData\\Local\\Temp/ipykernel_17752/325375980.py\u001b[0m in \u001b[0;36m<module>\u001b[1;34m\u001b[0m\n\u001b[0;32m     11\u001b[0m \u001b[1;33m\u001b[0m\u001b[0m\n\u001b[0;32m     12\u001b[0m \u001b[1;32mfor\u001b[0m \u001b[0mf\u001b[0m \u001b[1;32min\u001b[0m \u001b[0mfiles_xls\u001b[0m\u001b[1;33m:\u001b[0m\u001b[1;33m\u001b[0m\u001b[1;33m\u001b[0m\u001b[0m\n\u001b[1;32m---> 13\u001b[1;33m     \u001b[0mdata\u001b[0m  \u001b[1;33m=\u001b[0m \u001b[0mpd\u001b[0m\u001b[1;33m.\u001b[0m\u001b[0mread_html\u001b[0m\u001b[1;33m(\u001b[0m\u001b[0mf\u001b[0m\u001b[1;33m)\u001b[0m\u001b[1;33m\u001b[0m\u001b[1;33m\u001b[0m\u001b[0m\n\u001b[0m\u001b[0;32m     14\u001b[0m     \u001b[0mdata\u001b[0m \u001b[1;33m=\u001b[0m \u001b[0mdata\u001b[0m\u001b[1;33m[\u001b[0m\u001b[1;36m1\u001b[0m\u001b[1;33m]\u001b[0m\u001b[1;33m\u001b[0m\u001b[1;33m\u001b[0m\u001b[0m\n\u001b[0;32m     15\u001b[0m     \u001b[0mdata\u001b[0m \u001b[1;33m=\u001b[0m \u001b[0mdata\u001b[0m\u001b[1;33m.\u001b[0m\u001b[0mdropna\u001b[0m\u001b[1;33m(\u001b[0m\u001b[0maxis\u001b[0m \u001b[1;33m=\u001b[0m \u001b[1;36m1\u001b[0m\u001b[1;33m,\u001b[0m \u001b[0mhow\u001b[0m \u001b[1;33m=\u001b[0m\u001b[1;34m'all'\u001b[0m\u001b[1;33m)\u001b[0m \u001b[1;31m#excluir colunas com nan/valores nulos\u001b[0m\u001b[1;33m\u001b[0m\u001b[1;33m\u001b[0m\u001b[0m\n",
      "\u001b[1;32m~\\Anaconda3\\lib\\site-packages\\pandas\\util\\_decorators.py\u001b[0m in \u001b[0;36mwrapper\u001b[1;34m(*args, **kwargs)\u001b[0m\n\u001b[0;32m    309\u001b[0m                     \u001b[0mstacklevel\u001b[0m\u001b[1;33m=\u001b[0m\u001b[0mstacklevel\u001b[0m\u001b[1;33m,\u001b[0m\u001b[1;33m\u001b[0m\u001b[1;33m\u001b[0m\u001b[0m\n\u001b[0;32m    310\u001b[0m                 )\n\u001b[1;32m--> 311\u001b[1;33m             \u001b[1;32mreturn\u001b[0m \u001b[0mfunc\u001b[0m\u001b[1;33m(\u001b[0m\u001b[1;33m*\u001b[0m\u001b[0margs\u001b[0m\u001b[1;33m,\u001b[0m \u001b[1;33m**\u001b[0m\u001b[0mkwargs\u001b[0m\u001b[1;33m)\u001b[0m\u001b[1;33m\u001b[0m\u001b[1;33m\u001b[0m\u001b[0m\n\u001b[0m\u001b[0;32m    312\u001b[0m \u001b[1;33m\u001b[0m\u001b[0m\n\u001b[0;32m    313\u001b[0m         \u001b[1;32mreturn\u001b[0m \u001b[0mwrapper\u001b[0m\u001b[1;33m\u001b[0m\u001b[1;33m\u001b[0m\u001b[0m\n",
      "\u001b[1;32m~\\Anaconda3\\lib\\site-packages\\pandas\\io\\html.py\u001b[0m in \u001b[0;36mread_html\u001b[1;34m(io, match, flavor, header, index_col, skiprows, attrs, parse_dates, thousands, encoding, decimal, converters, na_values, keep_default_na, displayed_only)\u001b[0m\n\u001b[0;32m   1096\u001b[0m     \u001b[0mio\u001b[0m \u001b[1;33m=\u001b[0m \u001b[0mstringify_path\u001b[0m\u001b[1;33m(\u001b[0m\u001b[0mio\u001b[0m\u001b[1;33m)\u001b[0m\u001b[1;33m\u001b[0m\u001b[1;33m\u001b[0m\u001b[0m\n\u001b[0;32m   1097\u001b[0m \u001b[1;33m\u001b[0m\u001b[0m\n\u001b[1;32m-> 1098\u001b[1;33m     return _parse(\n\u001b[0m\u001b[0;32m   1099\u001b[0m         \u001b[0mflavor\u001b[0m\u001b[1;33m=\u001b[0m\u001b[0mflavor\u001b[0m\u001b[1;33m,\u001b[0m\u001b[1;33m\u001b[0m\u001b[1;33m\u001b[0m\u001b[0m\n\u001b[0;32m   1100\u001b[0m         \u001b[0mio\u001b[0m\u001b[1;33m=\u001b[0m\u001b[0mio\u001b[0m\u001b[1;33m,\u001b[0m\u001b[1;33m\u001b[0m\u001b[1;33m\u001b[0m\u001b[0m\n",
      "\u001b[1;32m~\\Anaconda3\\lib\\site-packages\\pandas\\io\\html.py\u001b[0m in \u001b[0;36m_parse\u001b[1;34m(flavor, io, match, attrs, encoding, displayed_only, **kwargs)\u001b[0m\n\u001b[0;32m    924\u001b[0m     \u001b[1;32melse\u001b[0m\u001b[1;33m:\u001b[0m\u001b[1;33m\u001b[0m\u001b[1;33m\u001b[0m\u001b[0m\n\u001b[0;32m    925\u001b[0m         \u001b[1;32massert\u001b[0m \u001b[0mretained\u001b[0m \u001b[1;32mis\u001b[0m \u001b[1;32mnot\u001b[0m \u001b[1;32mNone\u001b[0m  \u001b[1;31m# for mypy\u001b[0m\u001b[1;33m\u001b[0m\u001b[1;33m\u001b[0m\u001b[0m\n\u001b[1;32m--> 926\u001b[1;33m         \u001b[1;32mraise\u001b[0m \u001b[0mretained\u001b[0m\u001b[1;33m\u001b[0m\u001b[1;33m\u001b[0m\u001b[0m\n\u001b[0m\u001b[0;32m    927\u001b[0m \u001b[1;33m\u001b[0m\u001b[0m\n\u001b[0;32m    928\u001b[0m     \u001b[0mret\u001b[0m \u001b[1;33m=\u001b[0m \u001b[1;33m[\u001b[0m\u001b[1;33m]\u001b[0m\u001b[1;33m\u001b[0m\u001b[1;33m\u001b[0m\u001b[0m\n",
      "\u001b[1;32m~\\Anaconda3\\lib\\site-packages\\pandas\\io\\html.py\u001b[0m in \u001b[0;36m_parse\u001b[1;34m(flavor, io, match, attrs, encoding, displayed_only, **kwargs)\u001b[0m\n\u001b[0;32m    904\u001b[0m \u001b[1;33m\u001b[0m\u001b[0m\n\u001b[0;32m    905\u001b[0m         \u001b[1;32mtry\u001b[0m\u001b[1;33m:\u001b[0m\u001b[1;33m\u001b[0m\u001b[1;33m\u001b[0m\u001b[0m\n\u001b[1;32m--> 906\u001b[1;33m             \u001b[0mtables\u001b[0m \u001b[1;33m=\u001b[0m \u001b[0mp\u001b[0m\u001b[1;33m.\u001b[0m\u001b[0mparse_tables\u001b[0m\u001b[1;33m(\u001b[0m\u001b[1;33m)\u001b[0m\u001b[1;33m\u001b[0m\u001b[1;33m\u001b[0m\u001b[0m\n\u001b[0m\u001b[0;32m    907\u001b[0m         \u001b[1;32mexcept\u001b[0m \u001b[0mValueError\u001b[0m \u001b[1;32mas\u001b[0m \u001b[0mcaught\u001b[0m\u001b[1;33m:\u001b[0m\u001b[1;33m\u001b[0m\u001b[1;33m\u001b[0m\u001b[0m\n\u001b[0;32m    908\u001b[0m             \u001b[1;31m# if `io` is an io-like object, check if it's seekable\u001b[0m\u001b[1;33m\u001b[0m\u001b[1;33m\u001b[0m\u001b[0m\n",
      "\u001b[1;32m~\\Anaconda3\\lib\\site-packages\\pandas\\io\\html.py\u001b[0m in \u001b[0;36mparse_tables\u001b[1;34m(self)\u001b[0m\n\u001b[0;32m    220\u001b[0m         \u001b[0mlist\u001b[0m \u001b[0mof\u001b[0m \u001b[0mparsed\u001b[0m \u001b[1;33m(\u001b[0m\u001b[0mheader\u001b[0m\u001b[1;33m,\u001b[0m \u001b[0mbody\u001b[0m\u001b[1;33m,\u001b[0m \u001b[0mfooter\u001b[0m\u001b[1;33m)\u001b[0m \u001b[0mtuples\u001b[0m \u001b[1;32mfrom\u001b[0m \u001b[0mtables\u001b[0m\u001b[1;33m.\u001b[0m\u001b[1;33m\u001b[0m\u001b[1;33m\u001b[0m\u001b[0m\n\u001b[0;32m    221\u001b[0m         \"\"\"\n\u001b[1;32m--> 222\u001b[1;33m         \u001b[0mtables\u001b[0m \u001b[1;33m=\u001b[0m \u001b[0mself\u001b[0m\u001b[1;33m.\u001b[0m\u001b[0m_parse_tables\u001b[0m\u001b[1;33m(\u001b[0m\u001b[0mself\u001b[0m\u001b[1;33m.\u001b[0m\u001b[0m_build_doc\u001b[0m\u001b[1;33m(\u001b[0m\u001b[1;33m)\u001b[0m\u001b[1;33m,\u001b[0m \u001b[0mself\u001b[0m\u001b[1;33m.\u001b[0m\u001b[0mmatch\u001b[0m\u001b[1;33m,\u001b[0m \u001b[0mself\u001b[0m\u001b[1;33m.\u001b[0m\u001b[0mattrs\u001b[0m\u001b[1;33m)\u001b[0m\u001b[1;33m\u001b[0m\u001b[1;33m\u001b[0m\u001b[0m\n\u001b[0m\u001b[0;32m    223\u001b[0m         \u001b[1;32mreturn\u001b[0m \u001b[1;33m(\u001b[0m\u001b[0mself\u001b[0m\u001b[1;33m.\u001b[0m\u001b[0m_parse_thead_tbody_tfoot\u001b[0m\u001b[1;33m(\u001b[0m\u001b[0mtable\u001b[0m\u001b[1;33m)\u001b[0m \u001b[1;32mfor\u001b[0m \u001b[0mtable\u001b[0m \u001b[1;32min\u001b[0m \u001b[0mtables\u001b[0m\u001b[1;33m)\u001b[0m\u001b[1;33m\u001b[0m\u001b[1;33m\u001b[0m\u001b[0m\n\u001b[0;32m    224\u001b[0m \u001b[1;33m\u001b[0m\u001b[0m\n",
      "\u001b[1;32m~\\Anaconda3\\lib\\site-packages\\pandas\\io\\html.py\u001b[0m in \u001b[0;36m_parse_tables\u001b[1;34m(self, doc, match, attrs)\u001b[0m\n\u001b[0;32m    550\u001b[0m \u001b[1;33m\u001b[0m\u001b[0m\n\u001b[0;32m    551\u001b[0m         \u001b[1;32mif\u001b[0m \u001b[1;32mnot\u001b[0m \u001b[0mtables\u001b[0m\u001b[1;33m:\u001b[0m\u001b[1;33m\u001b[0m\u001b[1;33m\u001b[0m\u001b[0m\n\u001b[1;32m--> 552\u001b[1;33m             \u001b[1;32mraise\u001b[0m \u001b[0mValueError\u001b[0m\u001b[1;33m(\u001b[0m\u001b[1;34m\"No tables found\"\u001b[0m\u001b[1;33m)\u001b[0m\u001b[1;33m\u001b[0m\u001b[1;33m\u001b[0m\u001b[0m\n\u001b[0m\u001b[0;32m    553\u001b[0m \u001b[1;33m\u001b[0m\u001b[0m\n\u001b[0;32m    554\u001b[0m         \u001b[0mresult\u001b[0m \u001b[1;33m=\u001b[0m \u001b[1;33m[\u001b[0m\u001b[1;33m]\u001b[0m\u001b[1;33m\u001b[0m\u001b[1;33m\u001b[0m\u001b[0m\n",
      "\u001b[1;31mValueError\u001b[0m: No tables found"
     ]
    }
   ],
   "source": [
    "#IMPORTAÇÃO DOS MODULOS E CHAMADA DAS TABELAS\n",
    "import os\n",
    "import pandas as pd\n",
    "import glob\n",
    "import pyodbc\n",
    "\n",
    "path = r'C:\\Users\\gleisson.santos\\Desktop\\2 - Projetos Python\\Projeto #1 - Automção SCIWEB\\Projeto #6 - Extração de dados Selenium e BD\\aa'\n",
    "files_xls = os.listdir(path)\n",
    "\n",
    "df = pd.DataFrame()\n",
    "\n",
    "for f in files_xls:\n",
    "    data  = pd.read_html(f)\n",
    "    data = data[1]\n",
    "    data = data.dropna(axis = 1, how ='all') #excluir colunas com nan/valores nulos\n",
    "    #data = data.dropna()\n",
    "    df = df.append(data)\n",
    "    #df.to_excel('Tabela.xlsx', index=False)    \n",
    "\n"
   ]
  },
  {
   "cell_type": "code",
   "execution_count": 17,
   "id": "65526405",
   "metadata": {},
   "outputs": [],
   "source": [
    "df.to_excel('Dados.xlsx')"
   ]
  },
  {
   "cell_type": "code",
   "execution_count": 18,
   "id": "9bef74e5",
   "metadata": {},
   "outputs": [
    {
     "data": {
      "text/plain": [
       "Series([], dtype: object)"
      ]
     },
     "execution_count": 18,
     "metadata": {},
     "output_type": "execute_result"
    }
   ],
   "source": [
    "df.dtypes"
   ]
  },
  {
   "cell_type": "code",
   "execution_count": 20,
   "id": "a61627ee",
   "metadata": {},
   "outputs": [
    {
     "name": "stdout",
     "output_type": "stream",
     "text": [
      "['C:\\\\Users\\\\gleisson.santos\\\\Desktop\\\\2 - Projetos Python\\\\Projeto #1 - Automção SCIWEB\\\\Projeto #6 - Extração de dados Selenium e BD\\\\aa\\\\AtendimentoeServicos_OrdemdeServico_Insumos_ConsultaInsumosdasOS (1).xls', 'C:\\\\Users\\\\gleisson.santos\\\\Desktop\\\\2 - Projetos Python\\\\Projeto #1 - Automção SCIWEB\\\\Projeto #6 - Extração de dados Selenium e BD\\\\aa\\\\AtendimentoeServicos_OrdemdeServico_Insumos_ConsultaInsumosdasOS (10).xls', 'C:\\\\Users\\\\gleisson.santos\\\\Desktop\\\\2 - Projetos Python\\\\Projeto #1 - Automção SCIWEB\\\\Projeto #6 - Extração de dados Selenium e BD\\\\aa\\\\AtendimentoeServicos_OrdemdeServico_Insumos_ConsultaInsumosdasOS (100).xls', 'C:\\\\Users\\\\gleisson.santos\\\\Desktop\\\\2 - Projetos Python\\\\Projeto #1 - Automção SCIWEB\\\\Projeto #6 - Extração de dados Selenium e BD\\\\aa\\\\AtendimentoeServicos_OrdemdeServico_Insumos_ConsultaInsumosdasOS (11).xls', 'C:\\\\Users\\\\gleisson.santos\\\\Desktop\\\\2 - Projetos Python\\\\Projeto #1 - Automção SCIWEB\\\\Projeto #6 - Extração de dados Selenium e BD\\\\aa\\\\AtendimentoeServicos_OrdemdeServico_Insumos_ConsultaInsumosdasOS (12).xls', 'C:\\\\Users\\\\gleisson.santos\\\\Desktop\\\\2 - Projetos Python\\\\Projeto #1 - Automção SCIWEB\\\\Projeto #6 - Extração de dados Selenium e BD\\\\aa\\\\AtendimentoeServicos_OrdemdeServico_Insumos_ConsultaInsumosdasOS (13).xls', 'C:\\\\Users\\\\gleisson.santos\\\\Desktop\\\\2 - Projetos Python\\\\Projeto #1 - Automção SCIWEB\\\\Projeto #6 - Extração de dados Selenium e BD\\\\aa\\\\AtendimentoeServicos_OrdemdeServico_Insumos_ConsultaInsumosdasOS (14).xls', 'C:\\\\Users\\\\gleisson.santos\\\\Desktop\\\\2 - Projetos Python\\\\Projeto #1 - Automção SCIWEB\\\\Projeto #6 - Extração de dados Selenium e BD\\\\aa\\\\AtendimentoeServicos_OrdemdeServico_Insumos_ConsultaInsumosdasOS (15).xls', 'C:\\\\Users\\\\gleisson.santos\\\\Desktop\\\\2 - Projetos Python\\\\Projeto #1 - Automção SCIWEB\\\\Projeto #6 - Extração de dados Selenium e BD\\\\aa\\\\AtendimentoeServicos_OrdemdeServico_Insumos_ConsultaInsumosdasOS (16).xls', 'C:\\\\Users\\\\gleisson.santos\\\\Desktop\\\\2 - Projetos Python\\\\Projeto #1 - Automção SCIWEB\\\\Projeto #6 - Extração de dados Selenium e BD\\\\aa\\\\AtendimentoeServicos_OrdemdeServico_Insumos_ConsultaInsumosdasOS (17).xls', 'C:\\\\Users\\\\gleisson.santos\\\\Desktop\\\\2 - Projetos Python\\\\Projeto #1 - Automção SCIWEB\\\\Projeto #6 - Extração de dados Selenium e BD\\\\aa\\\\AtendimentoeServicos_OrdemdeServico_Insumos_ConsultaInsumosdasOS (18).xls', 'C:\\\\Users\\\\gleisson.santos\\\\Desktop\\\\2 - Projetos Python\\\\Projeto #1 - Automção SCIWEB\\\\Projeto #6 - Extração de dados Selenium e BD\\\\aa\\\\AtendimentoeServicos_OrdemdeServico_Insumos_ConsultaInsumosdasOS (19).xls', 'C:\\\\Users\\\\gleisson.santos\\\\Desktop\\\\2 - Projetos Python\\\\Projeto #1 - Automção SCIWEB\\\\Projeto #6 - Extração de dados Selenium e BD\\\\aa\\\\AtendimentoeServicos_OrdemdeServico_Insumos_ConsultaInsumosdasOS (2).xls', 'C:\\\\Users\\\\gleisson.santos\\\\Desktop\\\\2 - Projetos Python\\\\Projeto #1 - Automção SCIWEB\\\\Projeto #6 - Extração de dados Selenium e BD\\\\aa\\\\AtendimentoeServicos_OrdemdeServico_Insumos_ConsultaInsumosdasOS (20).xls', 'C:\\\\Users\\\\gleisson.santos\\\\Desktop\\\\2 - Projetos Python\\\\Projeto #1 - Automção SCIWEB\\\\Projeto #6 - Extração de dados Selenium e BD\\\\aa\\\\AtendimentoeServicos_OrdemdeServico_Insumos_ConsultaInsumosdasOS (21).xls', 'C:\\\\Users\\\\gleisson.santos\\\\Desktop\\\\2 - Projetos Python\\\\Projeto #1 - Automção SCIWEB\\\\Projeto #6 - Extração de dados Selenium e BD\\\\aa\\\\AtendimentoeServicos_OrdemdeServico_Insumos_ConsultaInsumosdasOS (22).xls', 'C:\\\\Users\\\\gleisson.santos\\\\Desktop\\\\2 - Projetos Python\\\\Projeto #1 - Automção SCIWEB\\\\Projeto #6 - Extração de dados Selenium e BD\\\\aa\\\\AtendimentoeServicos_OrdemdeServico_Insumos_ConsultaInsumosdasOS (23).xls', 'C:\\\\Users\\\\gleisson.santos\\\\Desktop\\\\2 - Projetos Python\\\\Projeto #1 - Automção SCIWEB\\\\Projeto #6 - Extração de dados Selenium e BD\\\\aa\\\\AtendimentoeServicos_OrdemdeServico_Insumos_ConsultaInsumosdasOS (24).xls', 'C:\\\\Users\\\\gleisson.santos\\\\Desktop\\\\2 - Projetos Python\\\\Projeto #1 - Automção SCIWEB\\\\Projeto #6 - Extração de dados Selenium e BD\\\\aa\\\\AtendimentoeServicos_OrdemdeServico_Insumos_ConsultaInsumosdasOS (25).xls', 'C:\\\\Users\\\\gleisson.santos\\\\Desktop\\\\2 - Projetos Python\\\\Projeto #1 - Automção SCIWEB\\\\Projeto #6 - Extração de dados Selenium e BD\\\\aa\\\\AtendimentoeServicos_OrdemdeServico_Insumos_ConsultaInsumosdasOS (26).xls', 'C:\\\\Users\\\\gleisson.santos\\\\Desktop\\\\2 - Projetos Python\\\\Projeto #1 - Automção SCIWEB\\\\Projeto #6 - Extração de dados Selenium e BD\\\\aa\\\\AtendimentoeServicos_OrdemdeServico_Insumos_ConsultaInsumosdasOS (27).xls', 'C:\\\\Users\\\\gleisson.santos\\\\Desktop\\\\2 - Projetos Python\\\\Projeto #1 - Automção SCIWEB\\\\Projeto #6 - Extração de dados Selenium e BD\\\\aa\\\\AtendimentoeServicos_OrdemdeServico_Insumos_ConsultaInsumosdasOS (28).xls', 'C:\\\\Users\\\\gleisson.santos\\\\Desktop\\\\2 - Projetos Python\\\\Projeto #1 - Automção SCIWEB\\\\Projeto #6 - Extração de dados Selenium e BD\\\\aa\\\\AtendimentoeServicos_OrdemdeServico_Insumos_ConsultaInsumosdasOS (29).xls', 'C:\\\\Users\\\\gleisson.santos\\\\Desktop\\\\2 - Projetos Python\\\\Projeto #1 - Automção SCIWEB\\\\Projeto #6 - Extração de dados Selenium e BD\\\\aa\\\\AtendimentoeServicos_OrdemdeServico_Insumos_ConsultaInsumosdasOS (3).xls', 'C:\\\\Users\\\\gleisson.santos\\\\Desktop\\\\2 - Projetos Python\\\\Projeto #1 - Automção SCIWEB\\\\Projeto #6 - Extração de dados Selenium e BD\\\\aa\\\\AtendimentoeServicos_OrdemdeServico_Insumos_ConsultaInsumosdasOS (30).xls', 'C:\\\\Users\\\\gleisson.santos\\\\Desktop\\\\2 - Projetos Python\\\\Projeto #1 - Automção SCIWEB\\\\Projeto #6 - Extração de dados Selenium e BD\\\\aa\\\\AtendimentoeServicos_OrdemdeServico_Insumos_ConsultaInsumosdasOS (31).xls', 'C:\\\\Users\\\\gleisson.santos\\\\Desktop\\\\2 - Projetos Python\\\\Projeto #1 - Automção SCIWEB\\\\Projeto #6 - Extração de dados Selenium e BD\\\\aa\\\\AtendimentoeServicos_OrdemdeServico_Insumos_ConsultaInsumosdasOS (32).xls', 'C:\\\\Users\\\\gleisson.santos\\\\Desktop\\\\2 - Projetos Python\\\\Projeto #1 - Automção SCIWEB\\\\Projeto #6 - Extração de dados Selenium e BD\\\\aa\\\\AtendimentoeServicos_OrdemdeServico_Insumos_ConsultaInsumosdasOS (33).xls', 'C:\\\\Users\\\\gleisson.santos\\\\Desktop\\\\2 - Projetos Python\\\\Projeto #1 - Automção SCIWEB\\\\Projeto #6 - Extração de dados Selenium e BD\\\\aa\\\\AtendimentoeServicos_OrdemdeServico_Insumos_ConsultaInsumosdasOS (34).xls', 'C:\\\\Users\\\\gleisson.santos\\\\Desktop\\\\2 - Projetos Python\\\\Projeto #1 - Automção SCIWEB\\\\Projeto #6 - Extração de dados Selenium e BD\\\\aa\\\\AtendimentoeServicos_OrdemdeServico_Insumos_ConsultaInsumosdasOS (35).xls', 'C:\\\\Users\\\\gleisson.santos\\\\Desktop\\\\2 - Projetos Python\\\\Projeto #1 - Automção SCIWEB\\\\Projeto #6 - Extração de dados Selenium e BD\\\\aa\\\\AtendimentoeServicos_OrdemdeServico_Insumos_ConsultaInsumosdasOS (36).xls', 'C:\\\\Users\\\\gleisson.santos\\\\Desktop\\\\2 - Projetos Python\\\\Projeto #1 - Automção SCIWEB\\\\Projeto #6 - Extração de dados Selenium e BD\\\\aa\\\\AtendimentoeServicos_OrdemdeServico_Insumos_ConsultaInsumosdasOS (37).xls', 'C:\\\\Users\\\\gleisson.santos\\\\Desktop\\\\2 - Projetos Python\\\\Projeto #1 - Automção SCIWEB\\\\Projeto #6 - Extração de dados Selenium e BD\\\\aa\\\\AtendimentoeServicos_OrdemdeServico_Insumos_ConsultaInsumosdasOS (38).xls', 'C:\\\\Users\\\\gleisson.santos\\\\Desktop\\\\2 - Projetos Python\\\\Projeto #1 - Automção SCIWEB\\\\Projeto #6 - Extração de dados Selenium e BD\\\\aa\\\\AtendimentoeServicos_OrdemdeServico_Insumos_ConsultaInsumosdasOS (39).xls', 'C:\\\\Users\\\\gleisson.santos\\\\Desktop\\\\2 - Projetos Python\\\\Projeto #1 - Automção SCIWEB\\\\Projeto #6 - Extração de dados Selenium e BD\\\\aa\\\\AtendimentoeServicos_OrdemdeServico_Insumos_ConsultaInsumosdasOS (4).xls', 'C:\\\\Users\\\\gleisson.santos\\\\Desktop\\\\2 - Projetos Python\\\\Projeto #1 - Automção SCIWEB\\\\Projeto #6 - Extração de dados Selenium e BD\\\\aa\\\\AtendimentoeServicos_OrdemdeServico_Insumos_ConsultaInsumosdasOS (40).xls', 'C:\\\\Users\\\\gleisson.santos\\\\Desktop\\\\2 - Projetos Python\\\\Projeto #1 - Automção SCIWEB\\\\Projeto #6 - Extração de dados Selenium e BD\\\\aa\\\\AtendimentoeServicos_OrdemdeServico_Insumos_ConsultaInsumosdasOS (41).xls', 'C:\\\\Users\\\\gleisson.santos\\\\Desktop\\\\2 - Projetos Python\\\\Projeto #1 - Automção SCIWEB\\\\Projeto #6 - Extração de dados Selenium e BD\\\\aa\\\\AtendimentoeServicos_OrdemdeServico_Insumos_ConsultaInsumosdasOS (42).xls', 'C:\\\\Users\\\\gleisson.santos\\\\Desktop\\\\2 - Projetos Python\\\\Projeto #1 - Automção SCIWEB\\\\Projeto #6 - Extração de dados Selenium e BD\\\\aa\\\\AtendimentoeServicos_OrdemdeServico_Insumos_ConsultaInsumosdasOS (43).xls', 'C:\\\\Users\\\\gleisson.santos\\\\Desktop\\\\2 - Projetos Python\\\\Projeto #1 - Automção SCIWEB\\\\Projeto #6 - Extração de dados Selenium e BD\\\\aa\\\\AtendimentoeServicos_OrdemdeServico_Insumos_ConsultaInsumosdasOS (44).xls', 'C:\\\\Users\\\\gleisson.santos\\\\Desktop\\\\2 - Projetos Python\\\\Projeto #1 - Automção SCIWEB\\\\Projeto #6 - Extração de dados Selenium e BD\\\\aa\\\\AtendimentoeServicos_OrdemdeServico_Insumos_ConsultaInsumosdasOS (45).xls', 'C:\\\\Users\\\\gleisson.santos\\\\Desktop\\\\2 - Projetos Python\\\\Projeto #1 - Automção SCIWEB\\\\Projeto #6 - Extração de dados Selenium e BD\\\\aa\\\\AtendimentoeServicos_OrdemdeServico_Insumos_ConsultaInsumosdasOS (46).xls', 'C:\\\\Users\\\\gleisson.santos\\\\Desktop\\\\2 - Projetos Python\\\\Projeto #1 - Automção SCIWEB\\\\Projeto #6 - Extração de dados Selenium e BD\\\\aa\\\\AtendimentoeServicos_OrdemdeServico_Insumos_ConsultaInsumosdasOS (47).xls', 'C:\\\\Users\\\\gleisson.santos\\\\Desktop\\\\2 - Projetos Python\\\\Projeto #1 - Automção SCIWEB\\\\Projeto #6 - Extração de dados Selenium e BD\\\\aa\\\\AtendimentoeServicos_OrdemdeServico_Insumos_ConsultaInsumosdasOS (48).xls', 'C:\\\\Users\\\\gleisson.santos\\\\Desktop\\\\2 - Projetos Python\\\\Projeto #1 - Automção SCIWEB\\\\Projeto #6 - Extração de dados Selenium e BD\\\\aa\\\\AtendimentoeServicos_OrdemdeServico_Insumos_ConsultaInsumosdasOS (49).xls', 'C:\\\\Users\\\\gleisson.santos\\\\Desktop\\\\2 - Projetos Python\\\\Projeto #1 - Automção SCIWEB\\\\Projeto #6 - Extração de dados Selenium e BD\\\\aa\\\\AtendimentoeServicos_OrdemdeServico_Insumos_ConsultaInsumosdasOS (5).xls', 'C:\\\\Users\\\\gleisson.santos\\\\Desktop\\\\2 - Projetos Python\\\\Projeto #1 - Automção SCIWEB\\\\Projeto #6 - Extração de dados Selenium e BD\\\\aa\\\\AtendimentoeServicos_OrdemdeServico_Insumos_ConsultaInsumosdasOS (50).xls', 'C:\\\\Users\\\\gleisson.santos\\\\Desktop\\\\2 - Projetos Python\\\\Projeto #1 - Automção SCIWEB\\\\Projeto #6 - Extração de dados Selenium e BD\\\\aa\\\\AtendimentoeServicos_OrdemdeServico_Insumos_ConsultaInsumosdasOS (51).xls', 'C:\\\\Users\\\\gleisson.santos\\\\Desktop\\\\2 - Projetos Python\\\\Projeto #1 - Automção SCIWEB\\\\Projeto #6 - Extração de dados Selenium e BD\\\\aa\\\\AtendimentoeServicos_OrdemdeServico_Insumos_ConsultaInsumosdasOS (52).xls', 'C:\\\\Users\\\\gleisson.santos\\\\Desktop\\\\2 - Projetos Python\\\\Projeto #1 - Automção SCIWEB\\\\Projeto #6 - Extração de dados Selenium e BD\\\\aa\\\\AtendimentoeServicos_OrdemdeServico_Insumos_ConsultaInsumosdasOS (53).xls', 'C:\\\\Users\\\\gleisson.santos\\\\Desktop\\\\2 - Projetos Python\\\\Projeto #1 - Automção SCIWEB\\\\Projeto #6 - Extração de dados Selenium e BD\\\\aa\\\\AtendimentoeServicos_OrdemdeServico_Insumos_ConsultaInsumosdasOS (54).xls', 'C:\\\\Users\\\\gleisson.santos\\\\Desktop\\\\2 - Projetos Python\\\\Projeto #1 - Automção SCIWEB\\\\Projeto #6 - Extração de dados Selenium e BD\\\\aa\\\\AtendimentoeServicos_OrdemdeServico_Insumos_ConsultaInsumosdasOS (55).xls', 'C:\\\\Users\\\\gleisson.santos\\\\Desktop\\\\2 - Projetos Python\\\\Projeto #1 - Automção SCIWEB\\\\Projeto #6 - Extração de dados Selenium e BD\\\\aa\\\\AtendimentoeServicos_OrdemdeServico_Insumos_ConsultaInsumosdasOS (56).xls', 'C:\\\\Users\\\\gleisson.santos\\\\Desktop\\\\2 - Projetos Python\\\\Projeto #1 - Automção SCIWEB\\\\Projeto #6 - Extração de dados Selenium e BD\\\\aa\\\\AtendimentoeServicos_OrdemdeServico_Insumos_ConsultaInsumosdasOS (57).xls', 'C:\\\\Users\\\\gleisson.santos\\\\Desktop\\\\2 - Projetos Python\\\\Projeto #1 - Automção SCIWEB\\\\Projeto #6 - Extração de dados Selenium e BD\\\\aa\\\\AtendimentoeServicos_OrdemdeServico_Insumos_ConsultaInsumosdasOS (58).xls', 'C:\\\\Users\\\\gleisson.santos\\\\Desktop\\\\2 - Projetos Python\\\\Projeto #1 - Automção SCIWEB\\\\Projeto #6 - Extração de dados Selenium e BD\\\\aa\\\\AtendimentoeServicos_OrdemdeServico_Insumos_ConsultaInsumosdasOS (59).xls', 'C:\\\\Users\\\\gleisson.santos\\\\Desktop\\\\2 - Projetos Python\\\\Projeto #1 - Automção SCIWEB\\\\Projeto #6 - Extração de dados Selenium e BD\\\\aa\\\\AtendimentoeServicos_OrdemdeServico_Insumos_ConsultaInsumosdasOS (6).xls', 'C:\\\\Users\\\\gleisson.santos\\\\Desktop\\\\2 - Projetos Python\\\\Projeto #1 - Automção SCIWEB\\\\Projeto #6 - Extração de dados Selenium e BD\\\\aa\\\\AtendimentoeServicos_OrdemdeServico_Insumos_ConsultaInsumosdasOS (60).xls', 'C:\\\\Users\\\\gleisson.santos\\\\Desktop\\\\2 - Projetos Python\\\\Projeto #1 - Automção SCIWEB\\\\Projeto #6 - Extração de dados Selenium e BD\\\\aa\\\\AtendimentoeServicos_OrdemdeServico_Insumos_ConsultaInsumosdasOS (61).xls', 'C:\\\\Users\\\\gleisson.santos\\\\Desktop\\\\2 - Projetos Python\\\\Projeto #1 - Automção SCIWEB\\\\Projeto #6 - Extração de dados Selenium e BD\\\\aa\\\\AtendimentoeServicos_OrdemdeServico_Insumos_ConsultaInsumosdasOS (62).xls', 'C:\\\\Users\\\\gleisson.santos\\\\Desktop\\\\2 - Projetos Python\\\\Projeto #1 - Automção SCIWEB\\\\Projeto #6 - Extração de dados Selenium e BD\\\\aa\\\\AtendimentoeServicos_OrdemdeServico_Insumos_ConsultaInsumosdasOS (63).xls', 'C:\\\\Users\\\\gleisson.santos\\\\Desktop\\\\2 - Projetos Python\\\\Projeto #1 - Automção SCIWEB\\\\Projeto #6 - Extração de dados Selenium e BD\\\\aa\\\\AtendimentoeServicos_OrdemdeServico_Insumos_ConsultaInsumosdasOS (64).xls', 'C:\\\\Users\\\\gleisson.santos\\\\Desktop\\\\2 - Projetos Python\\\\Projeto #1 - Automção SCIWEB\\\\Projeto #6 - Extração de dados Selenium e BD\\\\aa\\\\AtendimentoeServicos_OrdemdeServico_Insumos_ConsultaInsumosdasOS (65).xls', 'C:\\\\Users\\\\gleisson.santos\\\\Desktop\\\\2 - Projetos Python\\\\Projeto #1 - Automção SCIWEB\\\\Projeto #6 - Extração de dados Selenium e BD\\\\aa\\\\AtendimentoeServicos_OrdemdeServico_Insumos_ConsultaInsumosdasOS (66).xls', 'C:\\\\Users\\\\gleisson.santos\\\\Desktop\\\\2 - Projetos Python\\\\Projeto #1 - Automção SCIWEB\\\\Projeto #6 - Extração de dados Selenium e BD\\\\aa\\\\AtendimentoeServicos_OrdemdeServico_Insumos_ConsultaInsumosdasOS (67).xls', 'C:\\\\Users\\\\gleisson.santos\\\\Desktop\\\\2 - Projetos Python\\\\Projeto #1 - Automção SCIWEB\\\\Projeto #6 - Extração de dados Selenium e BD\\\\aa\\\\AtendimentoeServicos_OrdemdeServico_Insumos_ConsultaInsumosdasOS (68).xls', 'C:\\\\Users\\\\gleisson.santos\\\\Desktop\\\\2 - Projetos Python\\\\Projeto #1 - Automção SCIWEB\\\\Projeto #6 - Extração de dados Selenium e BD\\\\aa\\\\AtendimentoeServicos_OrdemdeServico_Insumos_ConsultaInsumosdasOS (69).xls', 'C:\\\\Users\\\\gleisson.santos\\\\Desktop\\\\2 - Projetos Python\\\\Projeto #1 - Automção SCIWEB\\\\Projeto #6 - Extração de dados Selenium e BD\\\\aa\\\\AtendimentoeServicos_OrdemdeServico_Insumos_ConsultaInsumosdasOS (7).xls', 'C:\\\\Users\\\\gleisson.santos\\\\Desktop\\\\2 - Projetos Python\\\\Projeto #1 - Automção SCIWEB\\\\Projeto #6 - Extração de dados Selenium e BD\\\\aa\\\\AtendimentoeServicos_OrdemdeServico_Insumos_ConsultaInsumosdasOS (70).xls', 'C:\\\\Users\\\\gleisson.santos\\\\Desktop\\\\2 - Projetos Python\\\\Projeto #1 - Automção SCIWEB\\\\Projeto #6 - Extração de dados Selenium e BD\\\\aa\\\\AtendimentoeServicos_OrdemdeServico_Insumos_ConsultaInsumosdasOS (71).xls', 'C:\\\\Users\\\\gleisson.santos\\\\Desktop\\\\2 - Projetos Python\\\\Projeto #1 - Automção SCIWEB\\\\Projeto #6 - Extração de dados Selenium e BD\\\\aa\\\\AtendimentoeServicos_OrdemdeServico_Insumos_ConsultaInsumosdasOS (72).xls', 'C:\\\\Users\\\\gleisson.santos\\\\Desktop\\\\2 - Projetos Python\\\\Projeto #1 - Automção SCIWEB\\\\Projeto #6 - Extração de dados Selenium e BD\\\\aa\\\\AtendimentoeServicos_OrdemdeServico_Insumos_ConsultaInsumosdasOS (73).xls', 'C:\\\\Users\\\\gleisson.santos\\\\Desktop\\\\2 - Projetos Python\\\\Projeto #1 - Automção SCIWEB\\\\Projeto #6 - Extração de dados Selenium e BD\\\\aa\\\\AtendimentoeServicos_OrdemdeServico_Insumos_ConsultaInsumosdasOS (74).xls', 'C:\\\\Users\\\\gleisson.santos\\\\Desktop\\\\2 - Projetos Python\\\\Projeto #1 - Automção SCIWEB\\\\Projeto #6 - Extração de dados Selenium e BD\\\\aa\\\\AtendimentoeServicos_OrdemdeServico_Insumos_ConsultaInsumosdasOS (75).xls', 'C:\\\\Users\\\\gleisson.santos\\\\Desktop\\\\2 - Projetos Python\\\\Projeto #1 - Automção SCIWEB\\\\Projeto #6 - Extração de dados Selenium e BD\\\\aa\\\\AtendimentoeServicos_OrdemdeServico_Insumos_ConsultaInsumosdasOS (76).xls', 'C:\\\\Users\\\\gleisson.santos\\\\Desktop\\\\2 - Projetos Python\\\\Projeto #1 - Automção SCIWEB\\\\Projeto #6 - Extração de dados Selenium e BD\\\\aa\\\\AtendimentoeServicos_OrdemdeServico_Insumos_ConsultaInsumosdasOS (77).xls', 'C:\\\\Users\\\\gleisson.santos\\\\Desktop\\\\2 - Projetos Python\\\\Projeto #1 - Automção SCIWEB\\\\Projeto #6 - Extração de dados Selenium e BD\\\\aa\\\\AtendimentoeServicos_OrdemdeServico_Insumos_ConsultaInsumosdasOS (78).xls', 'C:\\\\Users\\\\gleisson.santos\\\\Desktop\\\\2 - Projetos Python\\\\Projeto #1 - Automção SCIWEB\\\\Projeto #6 - Extração de dados Selenium e BD\\\\aa\\\\AtendimentoeServicos_OrdemdeServico_Insumos_ConsultaInsumosdasOS (79).xls', 'C:\\\\Users\\\\gleisson.santos\\\\Desktop\\\\2 - Projetos Python\\\\Projeto #1 - Automção SCIWEB\\\\Projeto #6 - Extração de dados Selenium e BD\\\\aa\\\\AtendimentoeServicos_OrdemdeServico_Insumos_ConsultaInsumosdasOS (8).xls', 'C:\\\\Users\\\\gleisson.santos\\\\Desktop\\\\2 - Projetos Python\\\\Projeto #1 - Automção SCIWEB\\\\Projeto #6 - Extração de dados Selenium e BD\\\\aa\\\\AtendimentoeServicos_OrdemdeServico_Insumos_ConsultaInsumosdasOS (80).xls', 'C:\\\\Users\\\\gleisson.santos\\\\Desktop\\\\2 - Projetos Python\\\\Projeto #1 - Automção SCIWEB\\\\Projeto #6 - Extração de dados Selenium e BD\\\\aa\\\\AtendimentoeServicos_OrdemdeServico_Insumos_ConsultaInsumosdasOS (81).xls', 'C:\\\\Users\\\\gleisson.santos\\\\Desktop\\\\2 - Projetos Python\\\\Projeto #1 - Automção SCIWEB\\\\Projeto #6 - Extração de dados Selenium e BD\\\\aa\\\\AtendimentoeServicos_OrdemdeServico_Insumos_ConsultaInsumosdasOS (82).xls', 'C:\\\\Users\\\\gleisson.santos\\\\Desktop\\\\2 - Projetos Python\\\\Projeto #1 - Automção SCIWEB\\\\Projeto #6 - Extração de dados Selenium e BD\\\\aa\\\\AtendimentoeServicos_OrdemdeServico_Insumos_ConsultaInsumosdasOS (83).xls', 'C:\\\\Users\\\\gleisson.santos\\\\Desktop\\\\2 - Projetos Python\\\\Projeto #1 - Automção SCIWEB\\\\Projeto #6 - Extração de dados Selenium e BD\\\\aa\\\\AtendimentoeServicos_OrdemdeServico_Insumos_ConsultaInsumosdasOS (84).xls', 'C:\\\\Users\\\\gleisson.santos\\\\Desktop\\\\2 - Projetos Python\\\\Projeto #1 - Automção SCIWEB\\\\Projeto #6 - Extração de dados Selenium e BD\\\\aa\\\\AtendimentoeServicos_OrdemdeServico_Insumos_ConsultaInsumosdasOS (85).xls', 'C:\\\\Users\\\\gleisson.santos\\\\Desktop\\\\2 - Projetos Python\\\\Projeto #1 - Automção SCIWEB\\\\Projeto #6 - Extração de dados Selenium e BD\\\\aa\\\\AtendimentoeServicos_OrdemdeServico_Insumos_ConsultaInsumosdasOS (86).xls', 'C:\\\\Users\\\\gleisson.santos\\\\Desktop\\\\2 - Projetos Python\\\\Projeto #1 - Automção SCIWEB\\\\Projeto #6 - Extração de dados Selenium e BD\\\\aa\\\\AtendimentoeServicos_OrdemdeServico_Insumos_ConsultaInsumosdasOS (87).xls', 'C:\\\\Users\\\\gleisson.santos\\\\Desktop\\\\2 - Projetos Python\\\\Projeto #1 - Automção SCIWEB\\\\Projeto #6 - Extração de dados Selenium e BD\\\\aa\\\\AtendimentoeServicos_OrdemdeServico_Insumos_ConsultaInsumosdasOS (88).xls', 'C:\\\\Users\\\\gleisson.santos\\\\Desktop\\\\2 - Projetos Python\\\\Projeto #1 - Automção SCIWEB\\\\Projeto #6 - Extração de dados Selenium e BD\\\\aa\\\\AtendimentoeServicos_OrdemdeServico_Insumos_ConsultaInsumosdasOS (89).xls', 'C:\\\\Users\\\\gleisson.santos\\\\Desktop\\\\2 - Projetos Python\\\\Projeto #1 - Automção SCIWEB\\\\Projeto #6 - Extração de dados Selenium e BD\\\\aa\\\\AtendimentoeServicos_OrdemdeServico_Insumos_ConsultaInsumosdasOS (9).xls', 'C:\\\\Users\\\\gleisson.santos\\\\Desktop\\\\2 - Projetos Python\\\\Projeto #1 - Automção SCIWEB\\\\Projeto #6 - Extração de dados Selenium e BD\\\\aa\\\\AtendimentoeServicos_OrdemdeServico_Insumos_ConsultaInsumosdasOS (90).xls', 'C:\\\\Users\\\\gleisson.santos\\\\Desktop\\\\2 - Projetos Python\\\\Projeto #1 - Automção SCIWEB\\\\Projeto #6 - Extração de dados Selenium e BD\\\\aa\\\\AtendimentoeServicos_OrdemdeServico_Insumos_ConsultaInsumosdasOS (91).xls', 'C:\\\\Users\\\\gleisson.santos\\\\Desktop\\\\2 - Projetos Python\\\\Projeto #1 - Automção SCIWEB\\\\Projeto #6 - Extração de dados Selenium e BD\\\\aa\\\\AtendimentoeServicos_OrdemdeServico_Insumos_ConsultaInsumosdasOS (92).xls', 'C:\\\\Users\\\\gleisson.santos\\\\Desktop\\\\2 - Projetos Python\\\\Projeto #1 - Automção SCIWEB\\\\Projeto #6 - Extração de dados Selenium e BD\\\\aa\\\\AtendimentoeServicos_OrdemdeServico_Insumos_ConsultaInsumosdasOS (93).xls', 'C:\\\\Users\\\\gleisson.santos\\\\Desktop\\\\2 - Projetos Python\\\\Projeto #1 - Automção SCIWEB\\\\Projeto #6 - Extração de dados Selenium e BD\\\\aa\\\\AtendimentoeServicos_OrdemdeServico_Insumos_ConsultaInsumosdasOS (94).xls', 'C:\\\\Users\\\\gleisson.santos\\\\Desktop\\\\2 - Projetos Python\\\\Projeto #1 - Automção SCIWEB\\\\Projeto #6 - Extração de dados Selenium e BD\\\\aa\\\\AtendimentoeServicos_OrdemdeServico_Insumos_ConsultaInsumosdasOS (95).xls', 'C:\\\\Users\\\\gleisson.santos\\\\Desktop\\\\2 - Projetos Python\\\\Projeto #1 - Automção SCIWEB\\\\Projeto #6 - Extração de dados Selenium e BD\\\\aa\\\\AtendimentoeServicos_OrdemdeServico_Insumos_ConsultaInsumosdasOS (96).xls', 'C:\\\\Users\\\\gleisson.santos\\\\Desktop\\\\2 - Projetos Python\\\\Projeto #1 - Automção SCIWEB\\\\Projeto #6 - Extração de dados Selenium e BD\\\\aa\\\\AtendimentoeServicos_OrdemdeServico_Insumos_ConsultaInsumosdasOS (97).xls', 'C:\\\\Users\\\\gleisson.santos\\\\Desktop\\\\2 - Projetos Python\\\\Projeto #1 - Automção SCIWEB\\\\Projeto #6 - Extração de dados Selenium e BD\\\\aa\\\\AtendimentoeServicos_OrdemdeServico_Insumos_ConsultaInsumosdasOS (98).xls', 'C:\\\\Users\\\\gleisson.santos\\\\Desktop\\\\2 - Projetos Python\\\\Projeto #1 - Automção SCIWEB\\\\Projeto #6 - Extração de dados Selenium e BD\\\\aa\\\\AtendimentoeServicos_OrdemdeServico_Insumos_ConsultaInsumosdasOS (99).xls', 'C:\\\\Users\\\\gleisson.santos\\\\Desktop\\\\2 - Projetos Python\\\\Projeto #1 - Automção SCIWEB\\\\Projeto #6 - Extração de dados Selenium e BD\\\\aa\\\\AtendimentoeServicos_OrdemdeServico_Insumos_ConsultaInsumosdasOS - 2022-09-06T121321.336.xls', 'C:\\\\Users\\\\gleisson.santos\\\\Desktop\\\\2 - Projetos Python\\\\Projeto #1 - Automção SCIWEB\\\\Projeto #6 - Extração de dados Selenium e BD\\\\aa\\\\AtendimentoeServicos_OrdemdeServico_Insumos_ConsultaInsumosdasOS - 2022-09-06T121353.609.xls', 'C:\\\\Users\\\\gleisson.santos\\\\Desktop\\\\2 - Projetos Python\\\\Projeto #1 - Automção SCIWEB\\\\Projeto #6 - Extração de dados Selenium e BD\\\\aa\\\\AtendimentoeServicos_OrdemdeServico_Insumos_ConsultaInsumosdasOS - 2022-09-06T121407.280.xls', 'C:\\\\Users\\\\gleisson.santos\\\\Desktop\\\\2 - Projetos Python\\\\Projeto #1 - Automção SCIWEB\\\\Projeto #6 - Extração de dados Selenium e BD\\\\aa\\\\AtendimentoeServicos_OrdemdeServico_Insumos_ConsultaInsumosdasOS - 2022-09-06T121411.413.xls', 'C:\\\\Users\\\\gleisson.santos\\\\Desktop\\\\2 - Projetos Python\\\\Projeto #1 - Automção SCIWEB\\\\Projeto #6 - Extração de dados Selenium e BD\\\\aa\\\\AtendimentoeServicos_OrdemdeServico_Insumos_ConsultaInsumosdasOS - 2022-09-06T121418.349.xls', 'C:\\\\Users\\\\gleisson.santos\\\\Desktop\\\\2 - Projetos Python\\\\Projeto #1 - Automção SCIWEB\\\\Projeto #6 - Extração de dados Selenium e BD\\\\aa\\\\AtendimentoeServicos_OrdemdeServico_Insumos_ConsultaInsumosdasOS - 2022-09-06T121431.824.xls', 'C:\\\\Users\\\\gleisson.santos\\\\Desktop\\\\2 - Projetos Python\\\\Projeto #1 - Automção SCIWEB\\\\Projeto #6 - Extração de dados Selenium e BD\\\\aa\\\\AtendimentoeServicos_OrdemdeServico_Insumos_ConsultaInsumosdasOS - 2022-09-06T121451.561.xls', 'C:\\\\Users\\\\gleisson.santos\\\\Desktop\\\\2 - Projetos Python\\\\Projeto #1 - Automção SCIWEB\\\\Projeto #6 - Extração de dados Selenium e BD\\\\aa\\\\AtendimentoeServicos_OrdemdeServico_Insumos_ConsultaInsumosdasOS - 2022-09-06T121453.355.xls', 'C:\\\\Users\\\\gleisson.santos\\\\Desktop\\\\2 - Projetos Python\\\\Projeto #1 - Automção SCIWEB\\\\Projeto #6 - Extração de dados Selenium e BD\\\\aa\\\\AtendimentoeServicos_OrdemdeServico_Insumos_ConsultaInsumosdasOS - 2022-09-06T121514.048.xls', 'C:\\\\Users\\\\gleisson.santos\\\\Desktop\\\\2 - Projetos Python\\\\Projeto #1 - Automção SCIWEB\\\\Projeto #6 - Extração de dados Selenium e BD\\\\aa\\\\AtendimentoeServicos_OrdemdeServico_Insumos_ConsultaInsumosdasOS - 2022-09-06T121538.428.xls', 'C:\\\\Users\\\\gleisson.santos\\\\Desktop\\\\2 - Projetos Python\\\\Projeto #1 - Automção SCIWEB\\\\Projeto #6 - Extração de dados Selenium e BD\\\\aa\\\\AtendimentoeServicos_OrdemdeServico_Insumos_ConsultaInsumosdasOS - 2022-09-06T121557.981.xls', 'C:\\\\Users\\\\gleisson.santos\\\\Desktop\\\\2 - Projetos Python\\\\Projeto #1 - Automção SCIWEB\\\\Projeto #6 - Extração de dados Selenium e BD\\\\aa\\\\AtendimentoeServicos_OrdemdeServico_Insumos_ConsultaInsumosdasOS - 2022-09-06T121604.388.xls', 'C:\\\\Users\\\\gleisson.santos\\\\Desktop\\\\2 - Projetos Python\\\\Projeto #1 - Automção SCIWEB\\\\Projeto #6 - Extração de dados Selenium e BD\\\\aa\\\\AtendimentoeServicos_OrdemdeServico_Insumos_ConsultaInsumosdasOS - 2022-09-06T121618.044.xls', 'C:\\\\Users\\\\gleisson.santos\\\\Desktop\\\\2 - Projetos Python\\\\Projeto #1 - Automção SCIWEB\\\\Projeto #6 - Extração de dados Selenium e BD\\\\aa\\\\AtendimentoeServicos_OrdemdeServico_Insumos_ConsultaInsumosdasOS - 2022-09-06T121631.953.xls', 'C:\\\\Users\\\\gleisson.santos\\\\Desktop\\\\2 - Projetos Python\\\\Projeto #1 - Automção SCIWEB\\\\Projeto #6 - Extração de dados Selenium e BD\\\\aa\\\\AtendimentoeServicos_OrdemdeServico_Insumos_ConsultaInsumosdasOS - 2022-09-06T121648.929.xls', 'C:\\\\Users\\\\gleisson.santos\\\\Desktop\\\\2 - Projetos Python\\\\Projeto #1 - Automção SCIWEB\\\\Projeto #6 - Extração de dados Selenium e BD\\\\aa\\\\AtendimentoeServicos_OrdemdeServico_Insumos_ConsultaInsumosdasOS - 2022-09-06T121654.026.xls', 'C:\\\\Users\\\\gleisson.santos\\\\Desktop\\\\2 - Projetos Python\\\\Projeto #1 - Automção SCIWEB\\\\Projeto #6 - Extração de dados Selenium e BD\\\\aa\\\\AtendimentoeServicos_OrdemdeServico_Insumos_ConsultaInsumosdasOS - 2022-09-06T121726.521.xls', 'C:\\\\Users\\\\gleisson.santos\\\\Desktop\\\\2 - Projetos Python\\\\Projeto #1 - Automção SCIWEB\\\\Projeto #6 - Extração de dados Selenium e BD\\\\aa\\\\AtendimentoeServicos_OrdemdeServico_Insumos_ConsultaInsumosdasOS - 2022-09-06T121738.726.xls', 'C:\\\\Users\\\\gleisson.santos\\\\Desktop\\\\2 - Projetos Python\\\\Projeto #1 - Automção SCIWEB\\\\Projeto #6 - Extração de dados Selenium e BD\\\\aa\\\\AtendimentoeServicos_OrdemdeServico_Insumos_ConsultaInsumosdasOS - 2022-09-06T121757.274.xls', 'C:\\\\Users\\\\gleisson.santos\\\\Desktop\\\\2 - Projetos Python\\\\Projeto #1 - Automção SCIWEB\\\\Projeto #6 - Extração de dados Selenium e BD\\\\aa\\\\AtendimentoeServicos_OrdemdeServico_Insumos_ConsultaInsumosdasOS - 2022-09-06T121804.058.xls', 'C:\\\\Users\\\\gleisson.santos\\\\Desktop\\\\2 - Projetos Python\\\\Projeto #1 - Automção SCIWEB\\\\Projeto #6 - Extração de dados Selenium e BD\\\\aa\\\\AtendimentoeServicos_OrdemdeServico_Insumos_ConsultaInsumosdasOS - 2022-09-06T121809.312.xls', 'C:\\\\Users\\\\gleisson.santos\\\\Desktop\\\\2 - Projetos Python\\\\Projeto #1 - Automção SCIWEB\\\\Projeto #6 - Extração de dados Selenium e BD\\\\aa\\\\AtendimentoeServicos_OrdemdeServico_Insumos_ConsultaInsumosdasOS - 2022-09-06T121846.860.xls', 'C:\\\\Users\\\\gleisson.santos\\\\Desktop\\\\2 - Projetos Python\\\\Projeto #1 - Automção SCIWEB\\\\Projeto #6 - Extração de dados Selenium e BD\\\\aa\\\\AtendimentoeServicos_OrdemdeServico_Insumos_ConsultaInsumosdasOS - 2022-09-06T121921.248.xls', 'C:\\\\Users\\\\gleisson.santos\\\\Desktop\\\\2 - Projetos Python\\\\Projeto #1 - Automção SCIWEB\\\\Projeto #6 - Extração de dados Selenium e BD\\\\aa\\\\AtendimentoeServicos_OrdemdeServico_Insumos_ConsultaInsumosdasOS - 2022-09-06T121925.587.xls', 'C:\\\\Users\\\\gleisson.santos\\\\Desktop\\\\2 - Projetos Python\\\\Projeto #1 - Automção SCIWEB\\\\Projeto #6 - Extração de dados Selenium e BD\\\\aa\\\\AtendimentoeServicos_OrdemdeServico_Insumos_ConsultaInsumosdasOS - 2022-09-06T121939.511.xls', 'C:\\\\Users\\\\gleisson.santos\\\\Desktop\\\\2 - Projetos Python\\\\Projeto #1 - Automção SCIWEB\\\\Projeto #6 - Extração de dados Selenium e BD\\\\aa\\\\AtendimentoeServicos_OrdemdeServico_Insumos_ConsultaInsumosdasOS - 2022-09-06T121949.847.xls', 'C:\\\\Users\\\\gleisson.santos\\\\Desktop\\\\2 - Projetos Python\\\\Projeto #1 - Automção SCIWEB\\\\Projeto #6 - Extração de dados Selenium e BD\\\\aa\\\\AtendimentoeServicos_OrdemdeServico_Insumos_ConsultaInsumosdasOS - 2022-09-06T121953.200.xls', 'C:\\\\Users\\\\gleisson.santos\\\\Desktop\\\\2 - Projetos Python\\\\Projeto #1 - Automção SCIWEB\\\\Projeto #6 - Extração de dados Selenium e BD\\\\aa\\\\AtendimentoeServicos_OrdemdeServico_Insumos_ConsultaInsumosdasOS - 2022-09-06T121956.828.xls', 'C:\\\\Users\\\\gleisson.santos\\\\Desktop\\\\2 - Projetos Python\\\\Projeto #1 - Automção SCIWEB\\\\Projeto #6 - Extração de dados Selenium e BD\\\\aa\\\\AtendimentoeServicos_OrdemdeServico_Insumos_ConsultaInsumosdasOS - 2022-09-06T122034.172.xls', 'C:\\\\Users\\\\gleisson.santos\\\\Desktop\\\\2 - Projetos Python\\\\Projeto #1 - Automção SCIWEB\\\\Projeto #6 - Extração de dados Selenium e BD\\\\aa\\\\AtendimentoeServicos_OrdemdeServico_Insumos_ConsultaInsumosdasOS - 2022-09-06T122047.070.xls', 'C:\\\\Users\\\\gleisson.santos\\\\Desktop\\\\2 - Projetos Python\\\\Projeto #1 - Automção SCIWEB\\\\Projeto #6 - Extração de dados Selenium e BD\\\\aa\\\\AtendimentoeServicos_OrdemdeServico_Insumos_ConsultaInsumosdasOS - 2022-09-06T122105.484.xls', 'C:\\\\Users\\\\gleisson.santos\\\\Desktop\\\\2 - Projetos Python\\\\Projeto #1 - Automção SCIWEB\\\\Projeto #6 - Extração de dados Selenium e BD\\\\aa\\\\AtendimentoeServicos_OrdemdeServico_Insumos_ConsultaInsumosdasOS - 2022-09-06T122109.002.xls', 'C:\\\\Users\\\\gleisson.santos\\\\Desktop\\\\2 - Projetos Python\\\\Projeto #1 - Automção SCIWEB\\\\Projeto #6 - Extração de dados Selenium e BD\\\\aa\\\\AtendimentoeServicos_OrdemdeServico_Insumos_ConsultaInsumosdasOS - 2022-09-06T122129.476.xls', 'C:\\\\Users\\\\gleisson.santos\\\\Desktop\\\\2 - Projetos Python\\\\Projeto #1 - Automção SCIWEB\\\\Projeto #6 - Extração de dados Selenium e BD\\\\aa\\\\AtendimentoeServicos_OrdemdeServico_Insumos_ConsultaInsumosdasOS - 2022-09-06T122135.825.xls', 'C:\\\\Users\\\\gleisson.santos\\\\Desktop\\\\2 - Projetos Python\\\\Projeto #1 - Automção SCIWEB\\\\Projeto #6 - Extração de dados Selenium e BD\\\\aa\\\\AtendimentoeServicos_OrdemdeServico_Insumos_ConsultaInsumosdasOS - 2022-09-06T122139.425.xls', 'C:\\\\Users\\\\gleisson.santos\\\\Desktop\\\\2 - Projetos Python\\\\Projeto #1 - Automção SCIWEB\\\\Projeto #6 - Extração de dados Selenium e BD\\\\aa\\\\AtendimentoeServicos_OrdemdeServico_Insumos_ConsultaInsumosdasOS - 2022-09-06T122210.775.xls', 'C:\\\\Users\\\\gleisson.santos\\\\Desktop\\\\2 - Projetos Python\\\\Projeto #1 - Automção SCIWEB\\\\Projeto #6 - Extração de dados Selenium e BD\\\\aa\\\\AtendimentoeServicos_OrdemdeServico_Insumos_ConsultaInsumosdasOS - 2022-09-06T122214.840.xls', 'C:\\\\Users\\\\gleisson.santos\\\\Desktop\\\\2 - Projetos Python\\\\Projeto #1 - Automção SCIWEB\\\\Projeto #6 - Extração de dados Selenium e BD\\\\aa\\\\AtendimentoeServicos_OrdemdeServico_Insumos_ConsultaInsumosdasOS - 2022-09-06T122247.542.xls', 'C:\\\\Users\\\\gleisson.santos\\\\Desktop\\\\2 - Projetos Python\\\\Projeto #1 - Automção SCIWEB\\\\Projeto #6 - Extração de dados Selenium e BD\\\\aa\\\\AtendimentoeServicos_OrdemdeServico_Insumos_ConsultaInsumosdasOS - 2022-09-06T122249.141.xls', 'C:\\\\Users\\\\gleisson.santos\\\\Desktop\\\\2 - Projetos Python\\\\Projeto #1 - Automção SCIWEB\\\\Projeto #6 - Extração de dados Selenium e BD\\\\aa\\\\AtendimentoeServicos_OrdemdeServico_Insumos_ConsultaInsumosdasOS - 2022-09-06T122313.517.xls', 'C:\\\\Users\\\\gleisson.santos\\\\Desktop\\\\2 - Projetos Python\\\\Projeto #1 - Automção SCIWEB\\\\Projeto #6 - Extração de dados Selenium e BD\\\\aa\\\\AtendimentoeServicos_OrdemdeServico_Insumos_ConsultaInsumosdasOS - 2022-09-06T122344.727.xls', 'C:\\\\Users\\\\gleisson.santos\\\\Desktop\\\\2 - Projetos Python\\\\Projeto #1 - Automção SCIWEB\\\\Projeto #6 - Extração de dados Selenium e BD\\\\aa\\\\AtendimentoeServicos_OrdemdeServico_Insumos_ConsultaInsumosdasOS - 2022-09-06T122345.228.xls', 'C:\\\\Users\\\\gleisson.santos\\\\Desktop\\\\2 - Projetos Python\\\\Projeto #1 - Automção SCIWEB\\\\Projeto #6 - Extração de dados Selenium e BD\\\\aa\\\\AtendimentoeServicos_OrdemdeServico_Insumos_ConsultaInsumosdasOS - 2022-09-06T122358.554.xls', 'C:\\\\Users\\\\gleisson.santos\\\\Desktop\\\\2 - Projetos Python\\\\Projeto #1 - Automção SCIWEB\\\\Projeto #6 - Extração de dados Selenium e BD\\\\aa\\\\AtendimentoeServicos_OrdemdeServico_Insumos_ConsultaInsumosdasOS - 2022-09-06T122439.595.xls', 'C:\\\\Users\\\\gleisson.santos\\\\Desktop\\\\2 - Projetos Python\\\\Projeto #1 - Automção SCIWEB\\\\Projeto #6 - Extração de dados Selenium e BD\\\\aa\\\\AtendimentoeServicos_OrdemdeServico_Insumos_ConsultaInsumosdasOS - 2022-09-06T122440.173.xls', 'C:\\\\Users\\\\gleisson.santos\\\\Desktop\\\\2 - Projetos Python\\\\Projeto #1 - Automção SCIWEB\\\\Projeto #6 - Extração de dados Selenium e BD\\\\aa\\\\AtendimentoeServicos_OrdemdeServico_Insumos_ConsultaInsumosdasOS - 2022-09-06T122447.852.xls', 'C:\\\\Users\\\\gleisson.santos\\\\Desktop\\\\2 - Projetos Python\\\\Projeto #1 - Automção SCIWEB\\\\Projeto #6 - Extração de dados Selenium e BD\\\\aa\\\\AtendimentoeServicos_OrdemdeServico_Insumos_ConsultaInsumosdasOS - 2022-09-06T122458.970.xls', 'C:\\\\Users\\\\gleisson.santos\\\\Desktop\\\\2 - Projetos Python\\\\Projeto #1 - Automção SCIWEB\\\\Projeto #6 - Extração de dados Selenium e BD\\\\aa\\\\AtendimentoeServicos_OrdemdeServico_Insumos_ConsultaInsumosdasOS - 2022-09-06T122534.084.xls', 'C:\\\\Users\\\\gleisson.santos\\\\Desktop\\\\2 - Projetos Python\\\\Projeto #1 - Automção SCIWEB\\\\Projeto #6 - Extração de dados Selenium e BD\\\\aa\\\\AtendimentoeServicos_OrdemdeServico_Insumos_ConsultaInsumosdasOS - 2022-09-06T122544.541.xls', 'C:\\\\Users\\\\gleisson.santos\\\\Desktop\\\\2 - Projetos Python\\\\Projeto #1 - Automção SCIWEB\\\\Projeto #6 - Extração de dados Selenium e BD\\\\aa\\\\AtendimentoeServicos_OrdemdeServico_Insumos_ConsultaInsumosdasOS - 2022-09-06T122600.241.xls', 'C:\\\\Users\\\\gleisson.santos\\\\Desktop\\\\2 - Projetos Python\\\\Projeto #1 - Automção SCIWEB\\\\Projeto #6 - Extração de dados Selenium e BD\\\\aa\\\\AtendimentoeServicos_OrdemdeServico_Insumos_ConsultaInsumosdasOS - 2022-09-06T122600.633.xls', 'C:\\\\Users\\\\gleisson.santos\\\\Desktop\\\\2 - Projetos Python\\\\Projeto #1 - Automção SCIWEB\\\\Projeto #6 - Extração de dados Selenium e BD\\\\aa\\\\AtendimentoeServicos_OrdemdeServico_Insumos_ConsultaInsumosdasOS - 2022-09-06T122628.889.xls', 'C:\\\\Users\\\\gleisson.santos\\\\Desktop\\\\2 - Projetos Python\\\\Projeto #1 - Automção SCIWEB\\\\Projeto #6 - Extração de dados Selenium e BD\\\\aa\\\\AtendimentoeServicos_OrdemdeServico_Insumos_ConsultaInsumosdasOS - 2022-09-06T122631.437.xls', 'C:\\\\Users\\\\gleisson.santos\\\\Desktop\\\\2 - Projetos Python\\\\Projeto #1 - Automção SCIWEB\\\\Projeto #6 - Extração de dados Selenium e BD\\\\aa\\\\AtendimentoeServicos_OrdemdeServico_Insumos_ConsultaInsumosdasOS - 2022-09-06T122652.837.xls', 'C:\\\\Users\\\\gleisson.santos\\\\Desktop\\\\2 - Projetos Python\\\\Projeto #1 - Automção SCIWEB\\\\Projeto #6 - Extração de dados Selenium e BD\\\\aa\\\\AtendimentoeServicos_OrdemdeServico_Insumos_ConsultaInsumosdasOS - 2022-09-06T122702.236.xls', 'C:\\\\Users\\\\gleisson.santos\\\\Desktop\\\\2 - Projetos Python\\\\Projeto #1 - Automção SCIWEB\\\\Projeto #6 - Extração de dados Selenium e BD\\\\aa\\\\AtendimentoeServicos_OrdemdeServico_Insumos_ConsultaInsumosdasOS - 2022-09-06T122704.721.xls', 'C:\\\\Users\\\\gleisson.santos\\\\Desktop\\\\2 - Projetos Python\\\\Projeto #1 - Automção SCIWEB\\\\Projeto #6 - Extração de dados Selenium e BD\\\\aa\\\\AtendimentoeServicos_OrdemdeServico_Insumos_ConsultaInsumosdasOS - 2022-09-06T122717.909.xls', 'C:\\\\Users\\\\gleisson.santos\\\\Desktop\\\\2 - Projetos Python\\\\Projeto #1 - Automção SCIWEB\\\\Projeto #6 - Extração de dados Selenium e BD\\\\aa\\\\AtendimentoeServicos_OrdemdeServico_Insumos_ConsultaInsumosdasOS - 2022-09-06T122736.133.xls', 'C:\\\\Users\\\\gleisson.santos\\\\Desktop\\\\2 - Projetos Python\\\\Projeto #1 - Automção SCIWEB\\\\Projeto #6 - Extração de dados Selenium e BD\\\\aa\\\\AtendimentoeServicos_OrdemdeServico_Insumos_ConsultaInsumosdasOS - 2022-09-06T122806.986.xls', 'C:\\\\Users\\\\gleisson.santos\\\\Desktop\\\\2 - Projetos Python\\\\Projeto #1 - Automção SCIWEB\\\\Projeto #6 - Extração de dados Selenium e BD\\\\aa\\\\AtendimentoeServicos_OrdemdeServico_Insumos_ConsultaInsumosdasOS - 2022-09-06T122814.918.xls', 'C:\\\\Users\\\\gleisson.santos\\\\Desktop\\\\2 - Projetos Python\\\\Projeto #1 - Automção SCIWEB\\\\Projeto #6 - Extração de dados Selenium e BD\\\\aa\\\\AtendimentoeServicos_OrdemdeServico_Insumos_ConsultaInsumosdasOS - 2022-09-06T122823.587.xls', 'C:\\\\Users\\\\gleisson.santos\\\\Desktop\\\\2 - Projetos Python\\\\Projeto #1 - Automção SCIWEB\\\\Projeto #6 - Extração de dados Selenium e BD\\\\aa\\\\AtendimentoeServicos_OrdemdeServico_Insumos_ConsultaInsumosdasOS - 2022-09-06T122844.035.xls', 'C:\\\\Users\\\\gleisson.santos\\\\Desktop\\\\2 - Projetos Python\\\\Projeto #1 - Automção SCIWEB\\\\Projeto #6 - Extração de dados Selenium e BD\\\\aa\\\\AtendimentoeServicos_OrdemdeServico_Insumos_ConsultaInsumosdasOS - 2022-09-06T122856.459.xls', 'C:\\\\Users\\\\gleisson.santos\\\\Desktop\\\\2 - Projetos Python\\\\Projeto #1 - Automção SCIWEB\\\\Projeto #6 - Extração de dados Selenium e BD\\\\aa\\\\AtendimentoeServicos_OrdemdeServico_Insumos_ConsultaInsumosdasOS - 2022-09-06T122906.354.xls', 'C:\\\\Users\\\\gleisson.santos\\\\Desktop\\\\2 - Projetos Python\\\\Projeto #1 - Automção SCIWEB\\\\Projeto #6 - Extração de dados Selenium e BD\\\\aa\\\\AtendimentoeServicos_OrdemdeServico_Insumos_ConsultaInsumosdasOS - 2022-09-06T122920.204.xls', 'C:\\\\Users\\\\gleisson.santos\\\\Desktop\\\\2 - Projetos Python\\\\Projeto #1 - Automção SCIWEB\\\\Projeto #6 - Extração de dados Selenium e BD\\\\aa\\\\AtendimentoeServicos_OrdemdeServico_Insumos_ConsultaInsumosdasOS - 2022-09-06T122941.822.xls', 'C:\\\\Users\\\\gleisson.santos\\\\Desktop\\\\2 - Projetos Python\\\\Projeto #1 - Automção SCIWEB\\\\Projeto #6 - Extração de dados Selenium e BD\\\\aa\\\\AtendimentoeServicos_OrdemdeServico_Insumos_ConsultaInsumosdasOS - 2022-09-06T122944.995.xls', 'C:\\\\Users\\\\gleisson.santos\\\\Desktop\\\\2 - Projetos Python\\\\Projeto #1 - Automção SCIWEB\\\\Projeto #6 - Extração de dados Selenium e BD\\\\aa\\\\AtendimentoeServicos_OrdemdeServico_Insumos_ConsultaInsumosdasOS.xls']\n"
     ]
    }
   ],
   "source": [
    "path = r'C:\\Users\\gleisson.santos\\Desktop\\2 - Projetos Python\\Projeto #1 - Automção SCIWEB\\Projeto #6 - Extração de dados Selenium e BD\\aa'\n",
    "files_xls = os.listdir(path)\n",
    "#Modelo de For 1 - listar arquivos em pasta\n",
    "files_xls = [path + '\\\\' + f for f in files if f[-3:] =='xls']\n",
    "print(files_xls)"
   ]
  },
  {
   "cell_type": "code",
   "execution_count": 21,
   "id": "3fd8a73f",
   "metadata": {},
   "outputs": [
    {
     "name": "stdout",
     "output_type": "stream",
     "text": [
      "C:\\Users\\gleisson.santos\\Desktop\\2 - Projetos Python\\Projeto #1 - Automção SCIWEB\\Projeto #6 - Extração de dados Selenium e BD\\aa\\AtendimentoeServicos_OrdemdeServico_Insumos_ConsultaInsumosdasOS (1).xls\n",
      "C:\\Users\\gleisson.santos\\Desktop\\2 - Projetos Python\\Projeto #1 - Automção SCIWEB\\Projeto #6 - Extração de dados Selenium e BD\\aa\\AtendimentoeServicos_OrdemdeServico_Insumos_ConsultaInsumosdasOS (10).xls\n",
      "C:\\Users\\gleisson.santos\\Desktop\\2 - Projetos Python\\Projeto #1 - Automção SCIWEB\\Projeto #6 - Extração de dados Selenium e BD\\aa\\AtendimentoeServicos_OrdemdeServico_Insumos_ConsultaInsumosdasOS (100).xls\n",
      "C:\\Users\\gleisson.santos\\Desktop\\2 - Projetos Python\\Projeto #1 - Automção SCIWEB\\Projeto #6 - Extração de dados Selenium e BD\\aa\\AtendimentoeServicos_OrdemdeServico_Insumos_ConsultaInsumosdasOS (11).xls\n",
      "C:\\Users\\gleisson.santos\\Desktop\\2 - Projetos Python\\Projeto #1 - Automção SCIWEB\\Projeto #6 - Extração de dados Selenium e BD\\aa\\AtendimentoeServicos_OrdemdeServico_Insumos_ConsultaInsumosdasOS (12).xls\n",
      "C:\\Users\\gleisson.santos\\Desktop\\2 - Projetos Python\\Projeto #1 - Automção SCIWEB\\Projeto #6 - Extração de dados Selenium e BD\\aa\\AtendimentoeServicos_OrdemdeServico_Insumos_ConsultaInsumosdasOS (13).xls\n",
      "C:\\Users\\gleisson.santos\\Desktop\\2 - Projetos Python\\Projeto #1 - Automção SCIWEB\\Projeto #6 - Extração de dados Selenium e BD\\aa\\AtendimentoeServicos_OrdemdeServico_Insumos_ConsultaInsumosdasOS (14).xls\n",
      "C:\\Users\\gleisson.santos\\Desktop\\2 - Projetos Python\\Projeto #1 - Automção SCIWEB\\Projeto #6 - Extração de dados Selenium e BD\\aa\\AtendimentoeServicos_OrdemdeServico_Insumos_ConsultaInsumosdasOS (15).xls\n",
      "C:\\Users\\gleisson.santos\\Desktop\\2 - Projetos Python\\Projeto #1 - Automção SCIWEB\\Projeto #6 - Extração de dados Selenium e BD\\aa\\AtendimentoeServicos_OrdemdeServico_Insumos_ConsultaInsumosdasOS (16).xls\n",
      "C:\\Users\\gleisson.santos\\Desktop\\2 - Projetos Python\\Projeto #1 - Automção SCIWEB\\Projeto #6 - Extração de dados Selenium e BD\\aa\\AtendimentoeServicos_OrdemdeServico_Insumos_ConsultaInsumosdasOS (17).xls\n",
      "C:\\Users\\gleisson.santos\\Desktop\\2 - Projetos Python\\Projeto #1 - Automção SCIWEB\\Projeto #6 - Extração de dados Selenium e BD\\aa\\AtendimentoeServicos_OrdemdeServico_Insumos_ConsultaInsumosdasOS (18).xls\n",
      "C:\\Users\\gleisson.santos\\Desktop\\2 - Projetos Python\\Projeto #1 - Automção SCIWEB\\Projeto #6 - Extração de dados Selenium e BD\\aa\\AtendimentoeServicos_OrdemdeServico_Insumos_ConsultaInsumosdasOS (19).xls\n",
      "C:\\Users\\gleisson.santos\\Desktop\\2 - Projetos Python\\Projeto #1 - Automção SCIWEB\\Projeto #6 - Extração de dados Selenium e BD\\aa\\AtendimentoeServicos_OrdemdeServico_Insumos_ConsultaInsumosdasOS (2).xls\n",
      "C:\\Users\\gleisson.santos\\Desktop\\2 - Projetos Python\\Projeto #1 - Automção SCIWEB\\Projeto #6 - Extração de dados Selenium e BD\\aa\\AtendimentoeServicos_OrdemdeServico_Insumos_ConsultaInsumosdasOS (20).xls\n",
      "C:\\Users\\gleisson.santos\\Desktop\\2 - Projetos Python\\Projeto #1 - Automção SCIWEB\\Projeto #6 - Extração de dados Selenium e BD\\aa\\AtendimentoeServicos_OrdemdeServico_Insumos_ConsultaInsumosdasOS (21).xls\n",
      "C:\\Users\\gleisson.santos\\Desktop\\2 - Projetos Python\\Projeto #1 - Automção SCIWEB\\Projeto #6 - Extração de dados Selenium e BD\\aa\\AtendimentoeServicos_OrdemdeServico_Insumos_ConsultaInsumosdasOS (22).xls\n",
      "C:\\Users\\gleisson.santos\\Desktop\\2 - Projetos Python\\Projeto #1 - Automção SCIWEB\\Projeto #6 - Extração de dados Selenium e BD\\aa\\AtendimentoeServicos_OrdemdeServico_Insumos_ConsultaInsumosdasOS (23).xls\n",
      "C:\\Users\\gleisson.santos\\Desktop\\2 - Projetos Python\\Projeto #1 - Automção SCIWEB\\Projeto #6 - Extração de dados Selenium e BD\\aa\\AtendimentoeServicos_OrdemdeServico_Insumos_ConsultaInsumosdasOS (24).xls\n",
      "C:\\Users\\gleisson.santos\\Desktop\\2 - Projetos Python\\Projeto #1 - Automção SCIWEB\\Projeto #6 - Extração de dados Selenium e BD\\aa\\AtendimentoeServicos_OrdemdeServico_Insumos_ConsultaInsumosdasOS (25).xls\n",
      "C:\\Users\\gleisson.santos\\Desktop\\2 - Projetos Python\\Projeto #1 - Automção SCIWEB\\Projeto #6 - Extração de dados Selenium e BD\\aa\\AtendimentoeServicos_OrdemdeServico_Insumos_ConsultaInsumosdasOS (26).xls\n",
      "C:\\Users\\gleisson.santos\\Desktop\\2 - Projetos Python\\Projeto #1 - Automção SCIWEB\\Projeto #6 - Extração de dados Selenium e BD\\aa\\AtendimentoeServicos_OrdemdeServico_Insumos_ConsultaInsumosdasOS (27).xls\n",
      "C:\\Users\\gleisson.santos\\Desktop\\2 - Projetos Python\\Projeto #1 - Automção SCIWEB\\Projeto #6 - Extração de dados Selenium e BD\\aa\\AtendimentoeServicos_OrdemdeServico_Insumos_ConsultaInsumosdasOS (28).xls\n",
      "C:\\Users\\gleisson.santos\\Desktop\\2 - Projetos Python\\Projeto #1 - Automção SCIWEB\\Projeto #6 - Extração de dados Selenium e BD\\aa\\AtendimentoeServicos_OrdemdeServico_Insumos_ConsultaInsumosdasOS (29).xls\n",
      "C:\\Users\\gleisson.santos\\Desktop\\2 - Projetos Python\\Projeto #1 - Automção SCIWEB\\Projeto #6 - Extração de dados Selenium e BD\\aa\\AtendimentoeServicos_OrdemdeServico_Insumos_ConsultaInsumosdasOS (3).xls\n",
      "C:\\Users\\gleisson.santos\\Desktop\\2 - Projetos Python\\Projeto #1 - Automção SCIWEB\\Projeto #6 - Extração de dados Selenium e BD\\aa\\AtendimentoeServicos_OrdemdeServico_Insumos_ConsultaInsumosdasOS (30).xls\n",
      "C:\\Users\\gleisson.santos\\Desktop\\2 - Projetos Python\\Projeto #1 - Automção SCIWEB\\Projeto #6 - Extração de dados Selenium e BD\\aa\\AtendimentoeServicos_OrdemdeServico_Insumos_ConsultaInsumosdasOS (31).xls\n",
      "C:\\Users\\gleisson.santos\\Desktop\\2 - Projetos Python\\Projeto #1 - Automção SCIWEB\\Projeto #6 - Extração de dados Selenium e BD\\aa\\AtendimentoeServicos_OrdemdeServico_Insumos_ConsultaInsumosdasOS (32).xls\n",
      "C:\\Users\\gleisson.santos\\Desktop\\2 - Projetos Python\\Projeto #1 - Automção SCIWEB\\Projeto #6 - Extração de dados Selenium e BD\\aa\\AtendimentoeServicos_OrdemdeServico_Insumos_ConsultaInsumosdasOS (33).xls\n",
      "C:\\Users\\gleisson.santos\\Desktop\\2 - Projetos Python\\Projeto #1 - Automção SCIWEB\\Projeto #6 - Extração de dados Selenium e BD\\aa\\AtendimentoeServicos_OrdemdeServico_Insumos_ConsultaInsumosdasOS (34).xls\n",
      "C:\\Users\\gleisson.santos\\Desktop\\2 - Projetos Python\\Projeto #1 - Automção SCIWEB\\Projeto #6 - Extração de dados Selenium e BD\\aa\\AtendimentoeServicos_OrdemdeServico_Insumos_ConsultaInsumosdasOS (35).xls\n",
      "C:\\Users\\gleisson.santos\\Desktop\\2 - Projetos Python\\Projeto #1 - Automção SCIWEB\\Projeto #6 - Extração de dados Selenium e BD\\aa\\AtendimentoeServicos_OrdemdeServico_Insumos_ConsultaInsumosdasOS (36).xls\n",
      "C:\\Users\\gleisson.santos\\Desktop\\2 - Projetos Python\\Projeto #1 - Automção SCIWEB\\Projeto #6 - Extração de dados Selenium e BD\\aa\\AtendimentoeServicos_OrdemdeServico_Insumos_ConsultaInsumosdasOS (37).xls\n",
      "C:\\Users\\gleisson.santos\\Desktop\\2 - Projetos Python\\Projeto #1 - Automção SCIWEB\\Projeto #6 - Extração de dados Selenium e BD\\aa\\AtendimentoeServicos_OrdemdeServico_Insumos_ConsultaInsumosdasOS (38).xls\n",
      "C:\\Users\\gleisson.santos\\Desktop\\2 - Projetos Python\\Projeto #1 - Automção SCIWEB\\Projeto #6 - Extração de dados Selenium e BD\\aa\\AtendimentoeServicos_OrdemdeServico_Insumos_ConsultaInsumosdasOS (39).xls\n",
      "C:\\Users\\gleisson.santos\\Desktop\\2 - Projetos Python\\Projeto #1 - Automção SCIWEB\\Projeto #6 - Extração de dados Selenium e BD\\aa\\AtendimentoeServicos_OrdemdeServico_Insumos_ConsultaInsumosdasOS (4).xls\n",
      "C:\\Users\\gleisson.santos\\Desktop\\2 - Projetos Python\\Projeto #1 - Automção SCIWEB\\Projeto #6 - Extração de dados Selenium e BD\\aa\\AtendimentoeServicos_OrdemdeServico_Insumos_ConsultaInsumosdasOS (40).xls\n",
      "C:\\Users\\gleisson.santos\\Desktop\\2 - Projetos Python\\Projeto #1 - Automção SCIWEB\\Projeto #6 - Extração de dados Selenium e BD\\aa\\AtendimentoeServicos_OrdemdeServico_Insumos_ConsultaInsumosdasOS (41).xls\n",
      "C:\\Users\\gleisson.santos\\Desktop\\2 - Projetos Python\\Projeto #1 - Automção SCIWEB\\Projeto #6 - Extração de dados Selenium e BD\\aa\\AtendimentoeServicos_OrdemdeServico_Insumos_ConsultaInsumosdasOS (42).xls\n",
      "C:\\Users\\gleisson.santos\\Desktop\\2 - Projetos Python\\Projeto #1 - Automção SCIWEB\\Projeto #6 - Extração de dados Selenium e BD\\aa\\AtendimentoeServicos_OrdemdeServico_Insumos_ConsultaInsumosdasOS (43).xls\n",
      "C:\\Users\\gleisson.santos\\Desktop\\2 - Projetos Python\\Projeto #1 - Automção SCIWEB\\Projeto #6 - Extração de dados Selenium e BD\\aa\\AtendimentoeServicos_OrdemdeServico_Insumos_ConsultaInsumosdasOS (44).xls\n",
      "C:\\Users\\gleisson.santos\\Desktop\\2 - Projetos Python\\Projeto #1 - Automção SCIWEB\\Projeto #6 - Extração de dados Selenium e BD\\aa\\AtendimentoeServicos_OrdemdeServico_Insumos_ConsultaInsumosdasOS (45).xls\n",
      "C:\\Users\\gleisson.santos\\Desktop\\2 - Projetos Python\\Projeto #1 - Automção SCIWEB\\Projeto #6 - Extração de dados Selenium e BD\\aa\\AtendimentoeServicos_OrdemdeServico_Insumos_ConsultaInsumosdasOS (46).xls\n",
      "C:\\Users\\gleisson.santos\\Desktop\\2 - Projetos Python\\Projeto #1 - Automção SCIWEB\\Projeto #6 - Extração de dados Selenium e BD\\aa\\AtendimentoeServicos_OrdemdeServico_Insumos_ConsultaInsumosdasOS (47).xls\n",
      "C:\\Users\\gleisson.santos\\Desktop\\2 - Projetos Python\\Projeto #1 - Automção SCIWEB\\Projeto #6 - Extração de dados Selenium e BD\\aa\\AtendimentoeServicos_OrdemdeServico_Insumos_ConsultaInsumosdasOS (48).xls\n",
      "C:\\Users\\gleisson.santos\\Desktop\\2 - Projetos Python\\Projeto #1 - Automção SCIWEB\\Projeto #6 - Extração de dados Selenium e BD\\aa\\AtendimentoeServicos_OrdemdeServico_Insumos_ConsultaInsumosdasOS (49).xls\n",
      "C:\\Users\\gleisson.santos\\Desktop\\2 - Projetos Python\\Projeto #1 - Automção SCIWEB\\Projeto #6 - Extração de dados Selenium e BD\\aa\\AtendimentoeServicos_OrdemdeServico_Insumos_ConsultaInsumosdasOS (5).xls\n",
      "C:\\Users\\gleisson.santos\\Desktop\\2 - Projetos Python\\Projeto #1 - Automção SCIWEB\\Projeto #6 - Extração de dados Selenium e BD\\aa\\AtendimentoeServicos_OrdemdeServico_Insumos_ConsultaInsumosdasOS (50).xls\n",
      "C:\\Users\\gleisson.santos\\Desktop\\2 - Projetos Python\\Projeto #1 - Automção SCIWEB\\Projeto #6 - Extração de dados Selenium e BD\\aa\\AtendimentoeServicos_OrdemdeServico_Insumos_ConsultaInsumosdasOS (51).xls\n",
      "C:\\Users\\gleisson.santos\\Desktop\\2 - Projetos Python\\Projeto #1 - Automção SCIWEB\\Projeto #6 - Extração de dados Selenium e BD\\aa\\AtendimentoeServicos_OrdemdeServico_Insumos_ConsultaInsumosdasOS (52).xls\n",
      "C:\\Users\\gleisson.santos\\Desktop\\2 - Projetos Python\\Projeto #1 - Automção SCIWEB\\Projeto #6 - Extração de dados Selenium e BD\\aa\\AtendimentoeServicos_OrdemdeServico_Insumos_ConsultaInsumosdasOS (53).xls\n",
      "C:\\Users\\gleisson.santos\\Desktop\\2 - Projetos Python\\Projeto #1 - Automção SCIWEB\\Projeto #6 - Extração de dados Selenium e BD\\aa\\AtendimentoeServicos_OrdemdeServico_Insumos_ConsultaInsumosdasOS (54).xls\n",
      "C:\\Users\\gleisson.santos\\Desktop\\2 - Projetos Python\\Projeto #1 - Automção SCIWEB\\Projeto #6 - Extração de dados Selenium e BD\\aa\\AtendimentoeServicos_OrdemdeServico_Insumos_ConsultaInsumosdasOS (55).xls\n",
      "C:\\Users\\gleisson.santos\\Desktop\\2 - Projetos Python\\Projeto #1 - Automção SCIWEB\\Projeto #6 - Extração de dados Selenium e BD\\aa\\AtendimentoeServicos_OrdemdeServico_Insumos_ConsultaInsumosdasOS (56).xls\n",
      "C:\\Users\\gleisson.santos\\Desktop\\2 - Projetos Python\\Projeto #1 - Automção SCIWEB\\Projeto #6 - Extração de dados Selenium e BD\\aa\\AtendimentoeServicos_OrdemdeServico_Insumos_ConsultaInsumosdasOS (57).xls\n",
      "C:\\Users\\gleisson.santos\\Desktop\\2 - Projetos Python\\Projeto #1 - Automção SCIWEB\\Projeto #6 - Extração de dados Selenium e BD\\aa\\AtendimentoeServicos_OrdemdeServico_Insumos_ConsultaInsumosdasOS (58).xls\n",
      "C:\\Users\\gleisson.santos\\Desktop\\2 - Projetos Python\\Projeto #1 - Automção SCIWEB\\Projeto #6 - Extração de dados Selenium e BD\\aa\\AtendimentoeServicos_OrdemdeServico_Insumos_ConsultaInsumosdasOS (59).xls\n",
      "C:\\Users\\gleisson.santos\\Desktop\\2 - Projetos Python\\Projeto #1 - Automção SCIWEB\\Projeto #6 - Extração de dados Selenium e BD\\aa\\AtendimentoeServicos_OrdemdeServico_Insumos_ConsultaInsumosdasOS (6).xls\n",
      "C:\\Users\\gleisson.santos\\Desktop\\2 - Projetos Python\\Projeto #1 - Automção SCIWEB\\Projeto #6 - Extração de dados Selenium e BD\\aa\\AtendimentoeServicos_OrdemdeServico_Insumos_ConsultaInsumosdasOS (60).xls\n",
      "C:\\Users\\gleisson.santos\\Desktop\\2 - Projetos Python\\Projeto #1 - Automção SCIWEB\\Projeto #6 - Extração de dados Selenium e BD\\aa\\AtendimentoeServicos_OrdemdeServico_Insumos_ConsultaInsumosdasOS (61).xls\n",
      "C:\\Users\\gleisson.santos\\Desktop\\2 - Projetos Python\\Projeto #1 - Automção SCIWEB\\Projeto #6 - Extração de dados Selenium e BD\\aa\\AtendimentoeServicos_OrdemdeServico_Insumos_ConsultaInsumosdasOS (62).xls\n",
      "C:\\Users\\gleisson.santos\\Desktop\\2 - Projetos Python\\Projeto #1 - Automção SCIWEB\\Projeto #6 - Extração de dados Selenium e BD\\aa\\AtendimentoeServicos_OrdemdeServico_Insumos_ConsultaInsumosdasOS (63).xls\n",
      "C:\\Users\\gleisson.santos\\Desktop\\2 - Projetos Python\\Projeto #1 - Automção SCIWEB\\Projeto #6 - Extração de dados Selenium e BD\\aa\\AtendimentoeServicos_OrdemdeServico_Insumos_ConsultaInsumosdasOS (64).xls\n",
      "C:\\Users\\gleisson.santos\\Desktop\\2 - Projetos Python\\Projeto #1 - Automção SCIWEB\\Projeto #6 - Extração de dados Selenium e BD\\aa\\AtendimentoeServicos_OrdemdeServico_Insumos_ConsultaInsumosdasOS (65).xls\n",
      "C:\\Users\\gleisson.santos\\Desktop\\2 - Projetos Python\\Projeto #1 - Automção SCIWEB\\Projeto #6 - Extração de dados Selenium e BD\\aa\\AtendimentoeServicos_OrdemdeServico_Insumos_ConsultaInsumosdasOS (66).xls\n",
      "C:\\Users\\gleisson.santos\\Desktop\\2 - Projetos Python\\Projeto #1 - Automção SCIWEB\\Projeto #6 - Extração de dados Selenium e BD\\aa\\AtendimentoeServicos_OrdemdeServico_Insumos_ConsultaInsumosdasOS (67).xls\n",
      "C:\\Users\\gleisson.santos\\Desktop\\2 - Projetos Python\\Projeto #1 - Automção SCIWEB\\Projeto #6 - Extração de dados Selenium e BD\\aa\\AtendimentoeServicos_OrdemdeServico_Insumos_ConsultaInsumosdasOS (68).xls\n",
      "C:\\Users\\gleisson.santos\\Desktop\\2 - Projetos Python\\Projeto #1 - Automção SCIWEB\\Projeto #6 - Extração de dados Selenium e BD\\aa\\AtendimentoeServicos_OrdemdeServico_Insumos_ConsultaInsumosdasOS (69).xls\n",
      "C:\\Users\\gleisson.santos\\Desktop\\2 - Projetos Python\\Projeto #1 - Automção SCIWEB\\Projeto #6 - Extração de dados Selenium e BD\\aa\\AtendimentoeServicos_OrdemdeServico_Insumos_ConsultaInsumosdasOS (7).xls\n",
      "C:\\Users\\gleisson.santos\\Desktop\\2 - Projetos Python\\Projeto #1 - Automção SCIWEB\\Projeto #6 - Extração de dados Selenium e BD\\aa\\AtendimentoeServicos_OrdemdeServico_Insumos_ConsultaInsumosdasOS (70).xls\n",
      "C:\\Users\\gleisson.santos\\Desktop\\2 - Projetos Python\\Projeto #1 - Automção SCIWEB\\Projeto #6 - Extração de dados Selenium e BD\\aa\\AtendimentoeServicos_OrdemdeServico_Insumos_ConsultaInsumosdasOS (71).xls\n",
      "C:\\Users\\gleisson.santos\\Desktop\\2 - Projetos Python\\Projeto #1 - Automção SCIWEB\\Projeto #6 - Extração de dados Selenium e BD\\aa\\AtendimentoeServicos_OrdemdeServico_Insumos_ConsultaInsumosdasOS (72).xls\n",
      "C:\\Users\\gleisson.santos\\Desktop\\2 - Projetos Python\\Projeto #1 - Automção SCIWEB\\Projeto #6 - Extração de dados Selenium e BD\\aa\\AtendimentoeServicos_OrdemdeServico_Insumos_ConsultaInsumosdasOS (73).xls\n",
      "C:\\Users\\gleisson.santos\\Desktop\\2 - Projetos Python\\Projeto #1 - Automção SCIWEB\\Projeto #6 - Extração de dados Selenium e BD\\aa\\AtendimentoeServicos_OrdemdeServico_Insumos_ConsultaInsumosdasOS (74).xls\n",
      "C:\\Users\\gleisson.santos\\Desktop\\2 - Projetos Python\\Projeto #1 - Automção SCIWEB\\Projeto #6 - Extração de dados Selenium e BD\\aa\\AtendimentoeServicos_OrdemdeServico_Insumos_ConsultaInsumosdasOS (75).xls\n",
      "C:\\Users\\gleisson.santos\\Desktop\\2 - Projetos Python\\Projeto #1 - Automção SCIWEB\\Projeto #6 - Extração de dados Selenium e BD\\aa\\AtendimentoeServicos_OrdemdeServico_Insumos_ConsultaInsumosdasOS (76).xls\n",
      "C:\\Users\\gleisson.santos\\Desktop\\2 - Projetos Python\\Projeto #1 - Automção SCIWEB\\Projeto #6 - Extração de dados Selenium e BD\\aa\\AtendimentoeServicos_OrdemdeServico_Insumos_ConsultaInsumosdasOS (77).xls\n",
      "C:\\Users\\gleisson.santos\\Desktop\\2 - Projetos Python\\Projeto #1 - Automção SCIWEB\\Projeto #6 - Extração de dados Selenium e BD\\aa\\AtendimentoeServicos_OrdemdeServico_Insumos_ConsultaInsumosdasOS (78).xls\n",
      "C:\\Users\\gleisson.santos\\Desktop\\2 - Projetos Python\\Projeto #1 - Automção SCIWEB\\Projeto #6 - Extração de dados Selenium e BD\\aa\\AtendimentoeServicos_OrdemdeServico_Insumos_ConsultaInsumosdasOS (79).xls\n",
      "C:\\Users\\gleisson.santos\\Desktop\\2 - Projetos Python\\Projeto #1 - Automção SCIWEB\\Projeto #6 - Extração de dados Selenium e BD\\aa\\AtendimentoeServicos_OrdemdeServico_Insumos_ConsultaInsumosdasOS (8).xls\n",
      "C:\\Users\\gleisson.santos\\Desktop\\2 - Projetos Python\\Projeto #1 - Automção SCIWEB\\Projeto #6 - Extração de dados Selenium e BD\\aa\\AtendimentoeServicos_OrdemdeServico_Insumos_ConsultaInsumosdasOS (80).xls\n",
      "C:\\Users\\gleisson.santos\\Desktop\\2 - Projetos Python\\Projeto #1 - Automção SCIWEB\\Projeto #6 - Extração de dados Selenium e BD\\aa\\AtendimentoeServicos_OrdemdeServico_Insumos_ConsultaInsumosdasOS (81).xls\n",
      "C:\\Users\\gleisson.santos\\Desktop\\2 - Projetos Python\\Projeto #1 - Automção SCIWEB\\Projeto #6 - Extração de dados Selenium e BD\\aa\\AtendimentoeServicos_OrdemdeServico_Insumos_ConsultaInsumosdasOS (82).xls\n",
      "C:\\Users\\gleisson.santos\\Desktop\\2 - Projetos Python\\Projeto #1 - Automção SCIWEB\\Projeto #6 - Extração de dados Selenium e BD\\aa\\AtendimentoeServicos_OrdemdeServico_Insumos_ConsultaInsumosdasOS (83).xls\n",
      "C:\\Users\\gleisson.santos\\Desktop\\2 - Projetos Python\\Projeto #1 - Automção SCIWEB\\Projeto #6 - Extração de dados Selenium e BD\\aa\\AtendimentoeServicos_OrdemdeServico_Insumos_ConsultaInsumosdasOS (84).xls\n",
      "C:\\Users\\gleisson.santos\\Desktop\\2 - Projetos Python\\Projeto #1 - Automção SCIWEB\\Projeto #6 - Extração de dados Selenium e BD\\aa\\AtendimentoeServicos_OrdemdeServico_Insumos_ConsultaInsumosdasOS (85).xls\n",
      "C:\\Users\\gleisson.santos\\Desktop\\2 - Projetos Python\\Projeto #1 - Automção SCIWEB\\Projeto #6 - Extração de dados Selenium e BD\\aa\\AtendimentoeServicos_OrdemdeServico_Insumos_ConsultaInsumosdasOS (86).xls\n",
      "C:\\Users\\gleisson.santos\\Desktop\\2 - Projetos Python\\Projeto #1 - Automção SCIWEB\\Projeto #6 - Extração de dados Selenium e BD\\aa\\AtendimentoeServicos_OrdemdeServico_Insumos_ConsultaInsumosdasOS (87).xls\n",
      "C:\\Users\\gleisson.santos\\Desktop\\2 - Projetos Python\\Projeto #1 - Automção SCIWEB\\Projeto #6 - Extração de dados Selenium e BD\\aa\\AtendimentoeServicos_OrdemdeServico_Insumos_ConsultaInsumosdasOS (88).xls\n",
      "C:\\Users\\gleisson.santos\\Desktop\\2 - Projetos Python\\Projeto #1 - Automção SCIWEB\\Projeto #6 - Extração de dados Selenium e BD\\aa\\AtendimentoeServicos_OrdemdeServico_Insumos_ConsultaInsumosdasOS (89).xls\n",
      "C:\\Users\\gleisson.santos\\Desktop\\2 - Projetos Python\\Projeto #1 - Automção SCIWEB\\Projeto #6 - Extração de dados Selenium e BD\\aa\\AtendimentoeServicos_OrdemdeServico_Insumos_ConsultaInsumosdasOS (9).xls\n",
      "C:\\Users\\gleisson.santos\\Desktop\\2 - Projetos Python\\Projeto #1 - Automção SCIWEB\\Projeto #6 - Extração de dados Selenium e BD\\aa\\AtendimentoeServicos_OrdemdeServico_Insumos_ConsultaInsumosdasOS (90).xls\n",
      "C:\\Users\\gleisson.santos\\Desktop\\2 - Projetos Python\\Projeto #1 - Automção SCIWEB\\Projeto #6 - Extração de dados Selenium e BD\\aa\\AtendimentoeServicos_OrdemdeServico_Insumos_ConsultaInsumosdasOS (91).xls\n",
      "C:\\Users\\gleisson.santos\\Desktop\\2 - Projetos Python\\Projeto #1 - Automção SCIWEB\\Projeto #6 - Extração de dados Selenium e BD\\aa\\AtendimentoeServicos_OrdemdeServico_Insumos_ConsultaInsumosdasOS (92).xls\n",
      "C:\\Users\\gleisson.santos\\Desktop\\2 - Projetos Python\\Projeto #1 - Automção SCIWEB\\Projeto #6 - Extração de dados Selenium e BD\\aa\\AtendimentoeServicos_OrdemdeServico_Insumos_ConsultaInsumosdasOS (93).xls\n",
      "C:\\Users\\gleisson.santos\\Desktop\\2 - Projetos Python\\Projeto #1 - Automção SCIWEB\\Projeto #6 - Extração de dados Selenium e BD\\aa\\AtendimentoeServicos_OrdemdeServico_Insumos_ConsultaInsumosdasOS (94).xls\n",
      "C:\\Users\\gleisson.santos\\Desktop\\2 - Projetos Python\\Projeto #1 - Automção SCIWEB\\Projeto #6 - Extração de dados Selenium e BD\\aa\\AtendimentoeServicos_OrdemdeServico_Insumos_ConsultaInsumosdasOS (95).xls\n",
      "C:\\Users\\gleisson.santos\\Desktop\\2 - Projetos Python\\Projeto #1 - Automção SCIWEB\\Projeto #6 - Extração de dados Selenium e BD\\aa\\AtendimentoeServicos_OrdemdeServico_Insumos_ConsultaInsumosdasOS (96).xls\n",
      "C:\\Users\\gleisson.santos\\Desktop\\2 - Projetos Python\\Projeto #1 - Automção SCIWEB\\Projeto #6 - Extração de dados Selenium e BD\\aa\\AtendimentoeServicos_OrdemdeServico_Insumos_ConsultaInsumosdasOS (97).xls\n",
      "C:\\Users\\gleisson.santos\\Desktop\\2 - Projetos Python\\Projeto #1 - Automção SCIWEB\\Projeto #6 - Extração de dados Selenium e BD\\aa\\AtendimentoeServicos_OrdemdeServico_Insumos_ConsultaInsumosdasOS (98).xls\n",
      "C:\\Users\\gleisson.santos\\Desktop\\2 - Projetos Python\\Projeto #1 - Automção SCIWEB\\Projeto #6 - Extração de dados Selenium e BD\\aa\\AtendimentoeServicos_OrdemdeServico_Insumos_ConsultaInsumosdasOS (99).xls\n",
      "C:\\Users\\gleisson.santos\\Desktop\\2 - Projetos Python\\Projeto #1 - Automção SCIWEB\\Projeto #6 - Extração de dados Selenium e BD\\aa\\AtendimentoeServicos_OrdemdeServico_Insumos_ConsultaInsumosdasOS - 2022-09-06T121321.336.xls\n",
      "C:\\Users\\gleisson.santos\\Desktop\\2 - Projetos Python\\Projeto #1 - Automção SCIWEB\\Projeto #6 - Extração de dados Selenium e BD\\aa\\AtendimentoeServicos_OrdemdeServico_Insumos_ConsultaInsumosdasOS - 2022-09-06T121353.609.xls\n",
      "C:\\Users\\gleisson.santos\\Desktop\\2 - Projetos Python\\Projeto #1 - Automção SCIWEB\\Projeto #6 - Extração de dados Selenium e BD\\aa\\AtendimentoeServicos_OrdemdeServico_Insumos_ConsultaInsumosdasOS - 2022-09-06T121407.280.xls\n",
      "C:\\Users\\gleisson.santos\\Desktop\\2 - Projetos Python\\Projeto #1 - Automção SCIWEB\\Projeto #6 - Extração de dados Selenium e BD\\aa\\AtendimentoeServicos_OrdemdeServico_Insumos_ConsultaInsumosdasOS - 2022-09-06T121411.413.xls\n",
      "C:\\Users\\gleisson.santos\\Desktop\\2 - Projetos Python\\Projeto #1 - Automção SCIWEB\\Projeto #6 - Extração de dados Selenium e BD\\aa\\AtendimentoeServicos_OrdemdeServico_Insumos_ConsultaInsumosdasOS - 2022-09-06T121418.349.xls\n",
      "C:\\Users\\gleisson.santos\\Desktop\\2 - Projetos Python\\Projeto #1 - Automção SCIWEB\\Projeto #6 - Extração de dados Selenium e BD\\aa\\AtendimentoeServicos_OrdemdeServico_Insumos_ConsultaInsumosdasOS - 2022-09-06T121431.824.xls\n",
      "C:\\Users\\gleisson.santos\\Desktop\\2 - Projetos Python\\Projeto #1 - Automção SCIWEB\\Projeto #6 - Extração de dados Selenium e BD\\aa\\AtendimentoeServicos_OrdemdeServico_Insumos_ConsultaInsumosdasOS - 2022-09-06T121451.561.xls\n",
      "C:\\Users\\gleisson.santos\\Desktop\\2 - Projetos Python\\Projeto #1 - Automção SCIWEB\\Projeto #6 - Extração de dados Selenium e BD\\aa\\AtendimentoeServicos_OrdemdeServico_Insumos_ConsultaInsumosdasOS - 2022-09-06T121453.355.xls\n",
      "C:\\Users\\gleisson.santos\\Desktop\\2 - Projetos Python\\Projeto #1 - Automção SCIWEB\\Projeto #6 - Extração de dados Selenium e BD\\aa\\AtendimentoeServicos_OrdemdeServico_Insumos_ConsultaInsumosdasOS - 2022-09-06T121514.048.xls\n",
      "C:\\Users\\gleisson.santos\\Desktop\\2 - Projetos Python\\Projeto #1 - Automção SCIWEB\\Projeto #6 - Extração de dados Selenium e BD\\aa\\AtendimentoeServicos_OrdemdeServico_Insumos_ConsultaInsumosdasOS - 2022-09-06T121538.428.xls\n",
      "C:\\Users\\gleisson.santos\\Desktop\\2 - Projetos Python\\Projeto #1 - Automção SCIWEB\\Projeto #6 - Extração de dados Selenium e BD\\aa\\AtendimentoeServicos_OrdemdeServico_Insumos_ConsultaInsumosdasOS - 2022-09-06T121557.981.xls\n",
      "C:\\Users\\gleisson.santos\\Desktop\\2 - Projetos Python\\Projeto #1 - Automção SCIWEB\\Projeto #6 - Extração de dados Selenium e BD\\aa\\AtendimentoeServicos_OrdemdeServico_Insumos_ConsultaInsumosdasOS - 2022-09-06T121604.388.xls\n",
      "C:\\Users\\gleisson.santos\\Desktop\\2 - Projetos Python\\Projeto #1 - Automção SCIWEB\\Projeto #6 - Extração de dados Selenium e BD\\aa\\AtendimentoeServicos_OrdemdeServico_Insumos_ConsultaInsumosdasOS - 2022-09-06T121618.044.xls\n",
      "C:\\Users\\gleisson.santos\\Desktop\\2 - Projetos Python\\Projeto #1 - Automção SCIWEB\\Projeto #6 - Extração de dados Selenium e BD\\aa\\AtendimentoeServicos_OrdemdeServico_Insumos_ConsultaInsumosdasOS - 2022-09-06T121631.953.xls\n",
      "C:\\Users\\gleisson.santos\\Desktop\\2 - Projetos Python\\Projeto #1 - Automção SCIWEB\\Projeto #6 - Extração de dados Selenium e BD\\aa\\AtendimentoeServicos_OrdemdeServico_Insumos_ConsultaInsumosdasOS - 2022-09-06T121648.929.xls\n",
      "C:\\Users\\gleisson.santos\\Desktop\\2 - Projetos Python\\Projeto #1 - Automção SCIWEB\\Projeto #6 - Extração de dados Selenium e BD\\aa\\AtendimentoeServicos_OrdemdeServico_Insumos_ConsultaInsumosdasOS - 2022-09-06T121654.026.xls\n",
      "C:\\Users\\gleisson.santos\\Desktop\\2 - Projetos Python\\Projeto #1 - Automção SCIWEB\\Projeto #6 - Extração de dados Selenium e BD\\aa\\AtendimentoeServicos_OrdemdeServico_Insumos_ConsultaInsumosdasOS - 2022-09-06T121726.521.xls\n",
      "C:\\Users\\gleisson.santos\\Desktop\\2 - Projetos Python\\Projeto #1 - Automção SCIWEB\\Projeto #6 - Extração de dados Selenium e BD\\aa\\AtendimentoeServicos_OrdemdeServico_Insumos_ConsultaInsumosdasOS - 2022-09-06T121738.726.xls\n",
      "C:\\Users\\gleisson.santos\\Desktop\\2 - Projetos Python\\Projeto #1 - Automção SCIWEB\\Projeto #6 - Extração de dados Selenium e BD\\aa\\AtendimentoeServicos_OrdemdeServico_Insumos_ConsultaInsumosdasOS - 2022-09-06T121757.274.xls\n",
      "C:\\Users\\gleisson.santos\\Desktop\\2 - Projetos Python\\Projeto #1 - Automção SCIWEB\\Projeto #6 - Extração de dados Selenium e BD\\aa\\AtendimentoeServicos_OrdemdeServico_Insumos_ConsultaInsumosdasOS - 2022-09-06T121804.058.xls\n",
      "C:\\Users\\gleisson.santos\\Desktop\\2 - Projetos Python\\Projeto #1 - Automção SCIWEB\\Projeto #6 - Extração de dados Selenium e BD\\aa\\AtendimentoeServicos_OrdemdeServico_Insumos_ConsultaInsumosdasOS - 2022-09-06T121809.312.xls\n",
      "C:\\Users\\gleisson.santos\\Desktop\\2 - Projetos Python\\Projeto #1 - Automção SCIWEB\\Projeto #6 - Extração de dados Selenium e BD\\aa\\AtendimentoeServicos_OrdemdeServico_Insumos_ConsultaInsumosdasOS - 2022-09-06T121846.860.xls\n",
      "C:\\Users\\gleisson.santos\\Desktop\\2 - Projetos Python\\Projeto #1 - Automção SCIWEB\\Projeto #6 - Extração de dados Selenium e BD\\aa\\AtendimentoeServicos_OrdemdeServico_Insumos_ConsultaInsumosdasOS - 2022-09-06T121921.248.xls\n",
      "C:\\Users\\gleisson.santos\\Desktop\\2 - Projetos Python\\Projeto #1 - Automção SCIWEB\\Projeto #6 - Extração de dados Selenium e BD\\aa\\AtendimentoeServicos_OrdemdeServico_Insumos_ConsultaInsumosdasOS - 2022-09-06T121925.587.xls\n",
      "C:\\Users\\gleisson.santos\\Desktop\\2 - Projetos Python\\Projeto #1 - Automção SCIWEB\\Projeto #6 - Extração de dados Selenium e BD\\aa\\AtendimentoeServicos_OrdemdeServico_Insumos_ConsultaInsumosdasOS - 2022-09-06T121939.511.xls\n",
      "C:\\Users\\gleisson.santos\\Desktop\\2 - Projetos Python\\Projeto #1 - Automção SCIWEB\\Projeto #6 - Extração de dados Selenium e BD\\aa\\AtendimentoeServicos_OrdemdeServico_Insumos_ConsultaInsumosdasOS - 2022-09-06T121949.847.xls\n",
      "C:\\Users\\gleisson.santos\\Desktop\\2 - Projetos Python\\Projeto #1 - Automção SCIWEB\\Projeto #6 - Extração de dados Selenium e BD\\aa\\AtendimentoeServicos_OrdemdeServico_Insumos_ConsultaInsumosdasOS - 2022-09-06T121953.200.xls\n",
      "C:\\Users\\gleisson.santos\\Desktop\\2 - Projetos Python\\Projeto #1 - Automção SCIWEB\\Projeto #6 - Extração de dados Selenium e BD\\aa\\AtendimentoeServicos_OrdemdeServico_Insumos_ConsultaInsumosdasOS - 2022-09-06T121956.828.xls\n",
      "C:\\Users\\gleisson.santos\\Desktop\\2 - Projetos Python\\Projeto #1 - Automção SCIWEB\\Projeto #6 - Extração de dados Selenium e BD\\aa\\AtendimentoeServicos_OrdemdeServico_Insumos_ConsultaInsumosdasOS - 2022-09-06T122034.172.xls\n",
      "C:\\Users\\gleisson.santos\\Desktop\\2 - Projetos Python\\Projeto #1 - Automção SCIWEB\\Projeto #6 - Extração de dados Selenium e BD\\aa\\AtendimentoeServicos_OrdemdeServico_Insumos_ConsultaInsumosdasOS - 2022-09-06T122047.070.xls\n",
      "C:\\Users\\gleisson.santos\\Desktop\\2 - Projetos Python\\Projeto #1 - Automção SCIWEB\\Projeto #6 - Extração de dados Selenium e BD\\aa\\AtendimentoeServicos_OrdemdeServico_Insumos_ConsultaInsumosdasOS - 2022-09-06T122105.484.xls\n",
      "C:\\Users\\gleisson.santos\\Desktop\\2 - Projetos Python\\Projeto #1 - Automção SCIWEB\\Projeto #6 - Extração de dados Selenium e BD\\aa\\AtendimentoeServicos_OrdemdeServico_Insumos_ConsultaInsumosdasOS - 2022-09-06T122109.002.xls\n",
      "C:\\Users\\gleisson.santos\\Desktop\\2 - Projetos Python\\Projeto #1 - Automção SCIWEB\\Projeto #6 - Extração de dados Selenium e BD\\aa\\AtendimentoeServicos_OrdemdeServico_Insumos_ConsultaInsumosdasOS - 2022-09-06T122129.476.xls\n",
      "C:\\Users\\gleisson.santos\\Desktop\\2 - Projetos Python\\Projeto #1 - Automção SCIWEB\\Projeto #6 - Extração de dados Selenium e BD\\aa\\AtendimentoeServicos_OrdemdeServico_Insumos_ConsultaInsumosdasOS - 2022-09-06T122135.825.xls\n",
      "C:\\Users\\gleisson.santos\\Desktop\\2 - Projetos Python\\Projeto #1 - Automção SCIWEB\\Projeto #6 - Extração de dados Selenium e BD\\aa\\AtendimentoeServicos_OrdemdeServico_Insumos_ConsultaInsumosdasOS - 2022-09-06T122139.425.xls\n",
      "C:\\Users\\gleisson.santos\\Desktop\\2 - Projetos Python\\Projeto #1 - Automção SCIWEB\\Projeto #6 - Extração de dados Selenium e BD\\aa\\AtendimentoeServicos_OrdemdeServico_Insumos_ConsultaInsumosdasOS - 2022-09-06T122210.775.xls\n",
      "C:\\Users\\gleisson.santos\\Desktop\\2 - Projetos Python\\Projeto #1 - Automção SCIWEB\\Projeto #6 - Extração de dados Selenium e BD\\aa\\AtendimentoeServicos_OrdemdeServico_Insumos_ConsultaInsumosdasOS - 2022-09-06T122214.840.xls\n",
      "C:\\Users\\gleisson.santos\\Desktop\\2 - Projetos Python\\Projeto #1 - Automção SCIWEB\\Projeto #6 - Extração de dados Selenium e BD\\aa\\AtendimentoeServicos_OrdemdeServico_Insumos_ConsultaInsumosdasOS - 2022-09-06T122247.542.xls\n",
      "C:\\Users\\gleisson.santos\\Desktop\\2 - Projetos Python\\Projeto #1 - Automção SCIWEB\\Projeto #6 - Extração de dados Selenium e BD\\aa\\AtendimentoeServicos_OrdemdeServico_Insumos_ConsultaInsumosdasOS - 2022-09-06T122249.141.xls\n",
      "C:\\Users\\gleisson.santos\\Desktop\\2 - Projetos Python\\Projeto #1 - Automção SCIWEB\\Projeto #6 - Extração de dados Selenium e BD\\aa\\AtendimentoeServicos_OrdemdeServico_Insumos_ConsultaInsumosdasOS - 2022-09-06T122313.517.xls\n",
      "C:\\Users\\gleisson.santos\\Desktop\\2 - Projetos Python\\Projeto #1 - Automção SCIWEB\\Projeto #6 - Extração de dados Selenium e BD\\aa\\AtendimentoeServicos_OrdemdeServico_Insumos_ConsultaInsumosdasOS - 2022-09-06T122344.727.xls\n",
      "C:\\Users\\gleisson.santos\\Desktop\\2 - Projetos Python\\Projeto #1 - Automção SCIWEB\\Projeto #6 - Extração de dados Selenium e BD\\aa\\AtendimentoeServicos_OrdemdeServico_Insumos_ConsultaInsumosdasOS - 2022-09-06T122345.228.xls\n",
      "C:\\Users\\gleisson.santos\\Desktop\\2 - Projetos Python\\Projeto #1 - Automção SCIWEB\\Projeto #6 - Extração de dados Selenium e BD\\aa\\AtendimentoeServicos_OrdemdeServico_Insumos_ConsultaInsumosdasOS - 2022-09-06T122358.554.xls\n",
      "C:\\Users\\gleisson.santos\\Desktop\\2 - Projetos Python\\Projeto #1 - Automção SCIWEB\\Projeto #6 - Extração de dados Selenium e BD\\aa\\AtendimentoeServicos_OrdemdeServico_Insumos_ConsultaInsumosdasOS - 2022-09-06T122439.595.xls\n",
      "C:\\Users\\gleisson.santos\\Desktop\\2 - Projetos Python\\Projeto #1 - Automção SCIWEB\\Projeto #6 - Extração de dados Selenium e BD\\aa\\AtendimentoeServicos_OrdemdeServico_Insumos_ConsultaInsumosdasOS - 2022-09-06T122440.173.xls\n",
      "C:\\Users\\gleisson.santos\\Desktop\\2 - Projetos Python\\Projeto #1 - Automção SCIWEB\\Projeto #6 - Extração de dados Selenium e BD\\aa\\AtendimentoeServicos_OrdemdeServico_Insumos_ConsultaInsumosdasOS - 2022-09-06T122447.852.xls\n",
      "C:\\Users\\gleisson.santos\\Desktop\\2 - Projetos Python\\Projeto #1 - Automção SCIWEB\\Projeto #6 - Extração de dados Selenium e BD\\aa\\AtendimentoeServicos_OrdemdeServico_Insumos_ConsultaInsumosdasOS - 2022-09-06T122458.970.xls\n",
      "C:\\Users\\gleisson.santos\\Desktop\\2 - Projetos Python\\Projeto #1 - Automção SCIWEB\\Projeto #6 - Extração de dados Selenium e BD\\aa\\AtendimentoeServicos_OrdemdeServico_Insumos_ConsultaInsumosdasOS - 2022-09-06T122534.084.xls\n",
      "C:\\Users\\gleisson.santos\\Desktop\\2 - Projetos Python\\Projeto #1 - Automção SCIWEB\\Projeto #6 - Extração de dados Selenium e BD\\aa\\AtendimentoeServicos_OrdemdeServico_Insumos_ConsultaInsumosdasOS - 2022-09-06T122544.541.xls\n",
      "C:\\Users\\gleisson.santos\\Desktop\\2 - Projetos Python\\Projeto #1 - Automção SCIWEB\\Projeto #6 - Extração de dados Selenium e BD\\aa\\AtendimentoeServicos_OrdemdeServico_Insumos_ConsultaInsumosdasOS - 2022-09-06T122600.241.xls\n",
      "C:\\Users\\gleisson.santos\\Desktop\\2 - Projetos Python\\Projeto #1 - Automção SCIWEB\\Projeto #6 - Extração de dados Selenium e BD\\aa\\AtendimentoeServicos_OrdemdeServico_Insumos_ConsultaInsumosdasOS - 2022-09-06T122600.633.xls\n",
      "C:\\Users\\gleisson.santos\\Desktop\\2 - Projetos Python\\Projeto #1 - Automção SCIWEB\\Projeto #6 - Extração de dados Selenium e BD\\aa\\AtendimentoeServicos_OrdemdeServico_Insumos_ConsultaInsumosdasOS - 2022-09-06T122628.889.xls\n",
      "C:\\Users\\gleisson.santos\\Desktop\\2 - Projetos Python\\Projeto #1 - Automção SCIWEB\\Projeto #6 - Extração de dados Selenium e BD\\aa\\AtendimentoeServicos_OrdemdeServico_Insumos_ConsultaInsumosdasOS - 2022-09-06T122631.437.xls\n",
      "C:\\Users\\gleisson.santos\\Desktop\\2 - Projetos Python\\Projeto #1 - Automção SCIWEB\\Projeto #6 - Extração de dados Selenium e BD\\aa\\AtendimentoeServicos_OrdemdeServico_Insumos_ConsultaInsumosdasOS - 2022-09-06T122652.837.xls\n",
      "C:\\Users\\gleisson.santos\\Desktop\\2 - Projetos Python\\Projeto #1 - Automção SCIWEB\\Projeto #6 - Extração de dados Selenium e BD\\aa\\AtendimentoeServicos_OrdemdeServico_Insumos_ConsultaInsumosdasOS - 2022-09-06T122702.236.xls\n",
      "C:\\Users\\gleisson.santos\\Desktop\\2 - Projetos Python\\Projeto #1 - Automção SCIWEB\\Projeto #6 - Extração de dados Selenium e BD\\aa\\AtendimentoeServicos_OrdemdeServico_Insumos_ConsultaInsumosdasOS - 2022-09-06T122704.721.xls\n",
      "C:\\Users\\gleisson.santos\\Desktop\\2 - Projetos Python\\Projeto #1 - Automção SCIWEB\\Projeto #6 - Extração de dados Selenium e BD\\aa\\AtendimentoeServicos_OrdemdeServico_Insumos_ConsultaInsumosdasOS - 2022-09-06T122717.909.xls\n",
      "C:\\Users\\gleisson.santos\\Desktop\\2 - Projetos Python\\Projeto #1 - Automção SCIWEB\\Projeto #6 - Extração de dados Selenium e BD\\aa\\AtendimentoeServicos_OrdemdeServico_Insumos_ConsultaInsumosdasOS - 2022-09-06T122736.133.xls\n",
      "C:\\Users\\gleisson.santos\\Desktop\\2 - Projetos Python\\Projeto #1 - Automção SCIWEB\\Projeto #6 - Extração de dados Selenium e BD\\aa\\AtendimentoeServicos_OrdemdeServico_Insumos_ConsultaInsumosdasOS - 2022-09-06T122806.986.xls\n",
      "C:\\Users\\gleisson.santos\\Desktop\\2 - Projetos Python\\Projeto #1 - Automção SCIWEB\\Projeto #6 - Extração de dados Selenium e BD\\aa\\AtendimentoeServicos_OrdemdeServico_Insumos_ConsultaInsumosdasOS - 2022-09-06T122814.918.xls\n",
      "C:\\Users\\gleisson.santos\\Desktop\\2 - Projetos Python\\Projeto #1 - Automção SCIWEB\\Projeto #6 - Extração de dados Selenium e BD\\aa\\AtendimentoeServicos_OrdemdeServico_Insumos_ConsultaInsumosdasOS - 2022-09-06T122823.587.xls\n",
      "C:\\Users\\gleisson.santos\\Desktop\\2 - Projetos Python\\Projeto #1 - Automção SCIWEB\\Projeto #6 - Extração de dados Selenium e BD\\aa\\AtendimentoeServicos_OrdemdeServico_Insumos_ConsultaInsumosdasOS - 2022-09-06T122844.035.xls\n",
      "C:\\Users\\gleisson.santos\\Desktop\\2 - Projetos Python\\Projeto #1 - Automção SCIWEB\\Projeto #6 - Extração de dados Selenium e BD\\aa\\AtendimentoeServicos_OrdemdeServico_Insumos_ConsultaInsumosdasOS - 2022-09-06T122856.459.xls\n",
      "C:\\Users\\gleisson.santos\\Desktop\\2 - Projetos Python\\Projeto #1 - Automção SCIWEB\\Projeto #6 - Extração de dados Selenium e BD\\aa\\AtendimentoeServicos_OrdemdeServico_Insumos_ConsultaInsumosdasOS - 2022-09-06T122906.354.xls\n",
      "C:\\Users\\gleisson.santos\\Desktop\\2 - Projetos Python\\Projeto #1 - Automção SCIWEB\\Projeto #6 - Extração de dados Selenium e BD\\aa\\AtendimentoeServicos_OrdemdeServico_Insumos_ConsultaInsumosdasOS - 2022-09-06T122920.204.xls\n",
      "C:\\Users\\gleisson.santos\\Desktop\\2 - Projetos Python\\Projeto #1 - Automção SCIWEB\\Projeto #6 - Extração de dados Selenium e BD\\aa\\AtendimentoeServicos_OrdemdeServico_Insumos_ConsultaInsumosdasOS - 2022-09-06T122941.822.xls\n",
      "C:\\Users\\gleisson.santos\\Desktop\\2 - Projetos Python\\Projeto #1 - Automção SCIWEB\\Projeto #6 - Extração de dados Selenium e BD\\aa\\AtendimentoeServicos_OrdemdeServico_Insumos_ConsultaInsumosdasOS - 2022-09-06T122944.995.xls\n",
      "C:\\Users\\gleisson.santos\\Desktop\\2 - Projetos Python\\Projeto #1 - Automção SCIWEB\\Projeto #6 - Extração de dados Selenium e BD\\aa\\AtendimentoeServicos_OrdemdeServico_Insumos_ConsultaInsumosdasOS.xls\n"
     ]
    }
   ],
   "source": [
    "##Modelo de For 2 - Listar arquivos em pasta\n",
    "for f in files_xls:\n",
    "    print(f)"
   ]
  },
  {
   "cell_type": "code",
   "execution_count": 23,
   "id": "17f064cd",
   "metadata": {
    "scrolled": false
   },
   "outputs": [
    {
     "data": {
      "text/html": [
       "<div>\n",
       "<style scoped>\n",
       "    .dataframe tbody tr th:only-of-type {\n",
       "        vertical-align: middle;\n",
       "    }\n",
       "\n",
       "    .dataframe tbody tr th {\n",
       "        vertical-align: top;\n",
       "    }\n",
       "\n",
       "    .dataframe thead th {\n",
       "        text-align: right;\n",
       "    }\n",
       "</style>\n",
       "<table border=\"1\" class=\"dataframe\">\n",
       "  <thead>\n",
       "    <tr style=\"text-align: right;\">\n",
       "      <th></th>\n",
       "    </tr>\n",
       "  </thead>\n",
       "  <tbody>\n",
       "  </tbody>\n",
       "</table>\n",
       "</div>"
      ],
      "text/plain": [
       "Empty DataFrame\n",
       "Columns: []\n",
       "Index: []"
      ]
     },
     "execution_count": 23,
     "metadata": {},
     "output_type": "execute_result"
    }
   ],
   "source": [
    "#ALTERAR NOME DE COLUNAS\n",
    "df = df.rename(columns={'Obs da SS': 'ObsOS'})\n",
    "df = df.rename(columns={'Obs de Enc da OS': 'ObsEnc'})\n",
    "\n",
    "df"
   ]
  },
  {
   "cell_type": "code",
   "execution_count": 200,
   "id": "43bfcd22",
   "metadata": {},
   "outputs": [
    {
     "name": "stdout",
     "output_type": "stream",
     "text": [
      "Conexão Ok\n"
     ]
    },
    {
     "data": {
      "text/plain": [
       "<pyodbc.Connection at 0x19186b725e0>"
      ]
     },
     "execution_count": 200,
     "metadata": {},
     "output_type": "execute_result"
    }
   ],
   "source": [
    "#FUNÇAO PARA CONEXAO COM O BANCO DE DADOS SQL\n",
    "def executar_conexao():\n",
    "    server = 'TBDBL-GLEISSON'\n",
    "    database = 'Dados_Pavimento'\n",
    "    username = 'gleisson.santos'\n",
    "    password = '1234'\n",
    "    conexao = pyodbc.connect(\n",
    "        'DRIVER={SQL Server};SERVER=' + server + ';DATABASE=' + database + ';UID=' + username + ';PWD=' + password)\n",
    "    print('Conexão Ok')\n",
    "    return conexao\n",
    "executar_conexao()"
   ]
  },
  {
   "cell_type": "code",
   "execution_count": 24,
   "id": "6de41a9a",
   "metadata": {
    "scrolled": true
   },
   "outputs": [],
   "source": [
    "#VIEW DE LINHAS\n",
    "for index, row in df.iterrows():\n",
    "    print(row.ObsEnc)"
   ]
  },
  {
   "cell_type": "code",
   "execution_count": 186,
   "id": "b533d9ce",
   "metadata": {
    "collapsed": true
   },
   "outputs": [
    {
     "ename": "AttributeError",
     "evalue": "'DataFrame' object has no attribute 'show'",
     "output_type": "error",
     "traceback": [
      "\u001b[1;31m---------------------------------------------------------------------------\u001b[0m",
      "\u001b[1;31mAttributeError\u001b[0m                            Traceback (most recent call last)",
      "\u001b[1;32mC:\\Users\\GLEISS~1.SAN\\AppData\\Local\\Temp/ipykernel_14376/3726558592.py\u001b[0m in \u001b[0;36m<module>\u001b[1;34m\u001b[0m\n\u001b[1;32m----> 1\u001b[1;33m \u001b[0mdf\u001b[0m\u001b[1;33m.\u001b[0m\u001b[0mshow\u001b[0m\u001b[1;33m(\u001b[0m\u001b[1;33m)\u001b[0m\u001b[1;33m\u001b[0m\u001b[1;33m\u001b[0m\u001b[0m\n\u001b[0m",
      "\u001b[1;32m~\\Anaconda3\\lib\\site-packages\\pandas\\core\\generic.py\u001b[0m in \u001b[0;36m__getattr__\u001b[1;34m(self, name)\u001b[0m\n\u001b[0;32m   5485\u001b[0m         ):\n\u001b[0;32m   5486\u001b[0m             \u001b[1;32mreturn\u001b[0m \u001b[0mself\u001b[0m\u001b[1;33m[\u001b[0m\u001b[0mname\u001b[0m\u001b[1;33m]\u001b[0m\u001b[1;33m\u001b[0m\u001b[1;33m\u001b[0m\u001b[0m\n\u001b[1;32m-> 5487\u001b[1;33m         \u001b[1;32mreturn\u001b[0m \u001b[0mobject\u001b[0m\u001b[1;33m.\u001b[0m\u001b[0m__getattribute__\u001b[0m\u001b[1;33m(\u001b[0m\u001b[0mself\u001b[0m\u001b[1;33m,\u001b[0m \u001b[0mname\u001b[0m\u001b[1;33m)\u001b[0m\u001b[1;33m\u001b[0m\u001b[1;33m\u001b[0m\u001b[0m\n\u001b[0m\u001b[0;32m   5488\u001b[0m \u001b[1;33m\u001b[0m\u001b[0m\n\u001b[0;32m   5489\u001b[0m     \u001b[1;32mdef\u001b[0m \u001b[0m__setattr__\u001b[0m\u001b[1;33m(\u001b[0m\u001b[0mself\u001b[0m\u001b[1;33m,\u001b[0m \u001b[0mname\u001b[0m\u001b[1;33m:\u001b[0m \u001b[0mstr\u001b[0m\u001b[1;33m,\u001b[0m \u001b[0mvalue\u001b[0m\u001b[1;33m)\u001b[0m \u001b[1;33m->\u001b[0m \u001b[1;32mNone\u001b[0m\u001b[1;33m:\u001b[0m\u001b[1;33m\u001b[0m\u001b[1;33m\u001b[0m\u001b[0m\n",
      "\u001b[1;31mAttributeError\u001b[0m: 'DataFrame' object has no attribute 'show'"
     ]
    }
   ],
   "source": []
  },
  {
   "cell_type": "code",
   "execution_count": 197,
   "id": "a13aef7b",
   "metadata": {
    "collapsed": true
   },
   "outputs": [
    {
     "name": "stdout",
     "output_type": "stream",
     "text": [
      "Conexão Ok\n"
     ]
    },
    {
     "ename": "ProgrammingError",
     "evalue": "('42000', '[42000] [Microsoft][ODBC SQL Server Driver][SQL Server]O fluxo de protocolo da chamada de procedimento remoto (RPC) do protocolo TDS recebido está incorreto. Parâmetro 6 (\"\"): o valor fornecido não é uma instância válida do tipo de dados float. Procure valores inválidos nos dados de origem. Dados do tipo numérico com escala maior que precisão são um exemplo de um valor inválido. (8023) (SQLExecDirectW)')",
     "output_type": "error",
     "traceback": [
      "\u001b[1;31m---------------------------------------------------------------------------\u001b[0m",
      "\u001b[1;31mProgrammingError\u001b[0m                          Traceback (most recent call last)",
      "\u001b[1;32mC:\\Users\\GLEISS~1.SAN\\AppData\\Local\\Temp/ipykernel_14376/271549730.py\u001b[0m in \u001b[0;36m<module>\u001b[1;34m\u001b[0m\n\u001b[0;32m      2\u001b[0m \u001b[0mcursor\u001b[0m \u001b[1;33m=\u001b[0m \u001b[0mexecutar_conexao\u001b[0m\u001b[1;33m(\u001b[0m\u001b[1;33m)\u001b[0m\u001b[1;33m.\u001b[0m\u001b[0mcursor\u001b[0m\u001b[1;33m(\u001b[0m\u001b[1;33m)\u001b[0m\u001b[1;33m\u001b[0m\u001b[1;33m\u001b[0m\u001b[0m\n\u001b[0;32m      3\u001b[0m \u001b[1;32mfor\u001b[0m \u001b[0mindex\u001b[0m\u001b[1;33m,\u001b[0m \u001b[0mrow\u001b[0m \u001b[1;32min\u001b[0m \u001b[0mdf\u001b[0m\u001b[1;33m.\u001b[0m\u001b[0miterrows\u001b[0m\u001b[1;33m(\u001b[0m\u001b[1;33m)\u001b[0m\u001b[1;33m:\u001b[0m\u001b[1;33m\u001b[0m\u001b[1;33m\u001b[0m\u001b[0m\n\u001b[1;32m----> 4\u001b[1;33m     cursor.execute(\"INSERT INTO Material (SS, Serviço, Equipe) values(?,?,?)\",\n\u001b[0m\u001b[0;32m      5\u001b[0m                 row.SS, row.Serviço, row.Equipe)\n\u001b[0;32m      6\u001b[0m \u001b[1;33m\u001b[0m\u001b[0m\n",
      "\u001b[1;31mProgrammingError\u001b[0m: ('42000', '[42000] [Microsoft][ODBC SQL Server Driver][SQL Server]O fluxo de protocolo da chamada de procedimento remoto (RPC) do protocolo TDS recebido está incorreto. Parâmetro 6 (\"\"): o valor fornecido não é uma instância válida do tipo de dados float. Procure valores inválidos nos dados de origem. Dados do tipo numérico com escala maior que precisão são um exemplo de um valor inválido. (8023) (SQLExecDirectW)')"
     ]
    }
   ],
   "source": [
    "#INSERT DA TABALA TRATADA AO BANCO DE DADOS SQL\n",
    "cursor = executar_conexao().cursor()\n",
    "for index, row in df.iterrows():\n",
    "    cursor.execute(\"INSERT INTO Material (SS, Serviço, Equipe) values(?,?,?)\",\n",
    "                row.SS, row.Serviço, row.Equipe)\n",
    "\n",
    "cursor.commit()\n",
    "cursor.close()"
   ]
  },
  {
   "cell_type": "code",
   "execution_count": 204,
   "id": "db14af06",
   "metadata": {
    "collapsed": true
   },
   "outputs": [
    {
     "name": "stdout",
     "output_type": "stream",
     "text": [
      "Conexão Ok\n"
     ]
    },
    {
     "ename": "ProgrammingError",
     "evalue": "('42000', '[42000] [Microsoft][ODBC SQL Server Driver][SQL Server]O fluxo de protocolo da chamada de procedimento remoto (RPC) do protocolo TDS recebido está incorreto. Parâmetro 13 (\"\"): o valor fornecido não é uma instância válida do tipo de dados float. Procure valores inválidos nos dados de origem. Dados do tipo numérico com escala maior que precisão são um exemplo de um valor inválido. (8023) (SQLExecDirectW)')",
     "output_type": "error",
     "traceback": [
      "\u001b[1;31m---------------------------------------------------------------------------\u001b[0m",
      "\u001b[1;31mProgrammingError\u001b[0m                          Traceback (most recent call last)",
      "\u001b[1;32mC:\\Users\\GLEISS~1.SAN\\AppData\\Local\\Temp/ipykernel_14376/4258093957.py\u001b[0m in \u001b[0;36m<module>\u001b[1;34m\u001b[0m\n\u001b[0;32m      2\u001b[0m \u001b[0mcursor\u001b[0m \u001b[1;33m=\u001b[0m \u001b[0mexecutar_conexao\u001b[0m\u001b[1;33m(\u001b[0m\u001b[1;33m)\u001b[0m\u001b[1;33m.\u001b[0m\u001b[0mcursor\u001b[0m\u001b[1;33m(\u001b[0m\u001b[1;33m)\u001b[0m\u001b[1;33m\u001b[0m\u001b[1;33m\u001b[0m\u001b[0m\n\u001b[0;32m      3\u001b[0m \u001b[1;32mfor\u001b[0m \u001b[0mindex\u001b[0m\u001b[1;33m,\u001b[0m \u001b[0mrow\u001b[0m \u001b[1;32min\u001b[0m \u001b[0mdf\u001b[0m\u001b[1;33m.\u001b[0m\u001b[0miterrows\u001b[0m\u001b[1;33m(\u001b[0m\u001b[1;33m)\u001b[0m\u001b[1;33m:\u001b[0m\u001b[1;33m\u001b[0m\u001b[1;33m\u001b[0m\u001b[0m\n\u001b[1;32m----> 4\u001b[1;33m     cursor.execute(\"INSERT INTO Material (SS, OS, Serviço, Equipe, Localidade, Bairro, Logradouro, Encerramento, ObsOS, ObsEnc) values(?,?,?,?,?,?,?,?,?,?)\",\n\u001b[0m\u001b[0;32m      5\u001b[0m                 row.SS, row.OS, row.Serviço, row.Equipe, row.Localidade,  row.Bairro, row.Logradouro, row.Encerramento, row.ObsOS, row.ObsEnc)\n\u001b[0;32m      6\u001b[0m \u001b[1;33m\u001b[0m\u001b[0m\n",
      "\u001b[1;31mProgrammingError\u001b[0m: ('42000', '[42000] [Microsoft][ODBC SQL Server Driver][SQL Server]O fluxo de protocolo da chamada de procedimento remoto (RPC) do protocolo TDS recebido está incorreto. Parâmetro 13 (\"\"): o valor fornecido não é uma instância válida do tipo de dados float. Procure valores inválidos nos dados de origem. Dados do tipo numérico com escala maior que precisão são um exemplo de um valor inválido. (8023) (SQLExecDirectW)')"
     ]
    }
   ],
   "source": [
    "#INSERT DA TABALA TRATADA AO BANCO DE DADOS SQL\n",
    "cursor = executar_conexao().cursor()\n",
    "for index, row in df.iterrows():\n",
    "    cursor.execute(\"INSERT INTO Material (SS, OS, Serviço, Equipe, Localidade, Bairro, Logradouro, Encerramento, ObsOS, ObsEnc) values(?,?,?,?,?,?,?,?,?,?)\",\n",
    "                row.SS, row.OS, row.Serviço, row.Equipe, row.Localidade,  row.Bairro, row.Logradouro, row.Encerramento, row.ObsOS, row.ObsEnc)\n",
    "\n",
    "cursor.commit()\n",
    "cursor.close()"
   ]
  },
  {
   "cell_type": "code",
   "execution_count": 171,
   "id": "e9551660",
   "metadata": {},
   "outputs": [
    {
     "name": "stdout",
     "output_type": "stream",
     "text": [
      "Conexão Ok\n"
     ]
    }
   ],
   "source": [
    "#APAGAR REGISTROS NA TABELA\n",
    "cursor = executar_conexao().cursor()\n",
    "cursor.execute('TRUNCATE TABLE Material')\n",
    "cursor.commit()"
   ]
  }
 ],
 "metadata": {
  "kernelspec": {
   "display_name": "Python 3 (ipykernel)",
   "language": "python",
   "name": "python3"
  },
  "language_info": {
   "codemirror_mode": {
    "name": "ipython",
    "version": 3
   },
   "file_extension": ".py",
   "mimetype": "text/x-python",
   "name": "python",
   "nbconvert_exporter": "python",
   "pygments_lexer": "ipython3",
   "version": "3.9.7"
  }
 },
 "nbformat": 4,
 "nbformat_minor": 5
}
